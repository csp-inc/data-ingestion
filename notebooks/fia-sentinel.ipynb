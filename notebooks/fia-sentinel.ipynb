{
 "cells": [
  {
   "cell_type": "code",
   "execution_count": 18,
   "id": "8c3da908-8999-47cb-ba2d-97db3867c49c",
   "metadata": {},
   "outputs": [
    {
     "name": "stdout",
     "output_type": "stream",
     "text": [
      "Requirement already satisfied: dask in /srv/conda/envs/notebook/lib/python3.8/site-packages (0.17.5)\n"
     ]
    }
   ],
   "source": [
    "!pip install dask"
   ]
  },
  {
   "cell_type": "code",
   "execution_count": 10,
   "id": "complete-moisture",
   "metadata": {},
   "outputs": [],
   "source": [
    "from pystac_client import Client\n",
    "from pystac.extensions.eo import EOExtension as eo\n",
    "import planetary_computer as pc\n",
    "import sys\n",
    "sys.path.append('/home/jovyan/data-ingestion') \n",
    "import utils.sentinel as sentinel\n",
    "import pandas as pd\n",
    "import geopandas as gpd\n",
    "import numpy as np\n",
    "import fastparquet\n",
    "\n",
    "import dask.dataframe as dd\n",
    "from adlfs import AzureBlobFileSystem\n",
    "# Set the environment variable PC_SDK_SUBSCRIPTION_KEY, or set it here.\n",
    "# The Hub sets PC_SDK_SUBSCRIPTION_KEY automatically.\n",
    "# pc.settings.set_subscription_key(<YOUR API Key>)"
   ]
  },
  {
   "cell_type": "code",
   "execution_count": 11,
   "id": "visible-effort",
   "metadata": {},
   "outputs": [],
   "source": [
    "# Not used directly, but either fastparquet or pyarrow needs to be installed\n",
    "# import fastparquet\n",
    "\n",
    "storage_account_name = 'cpdataeuwest'\n",
    "folder_name = 'cpdata/raw/fia'\n",
    "\n",
    "fs = AzureBlobFileSystem(account_name=storage_account_name)\n",
    "parquet_files = fs.glob(folder_name + '/*parquet')\n"
   ]
  },
  {
   "cell_type": "code",
   "execution_count": 16,
   "id": "final-banner",
   "metadata": {},
   "outputs": [
    {
     "ename": "ValueError",
     "evalue": "Unknown protocol az",
     "output_type": "error",
     "traceback": [
      "\u001b[0;31m---------------------------------------------------------------------------\u001b[0m",
      "\u001b[0;31mValueError\u001b[0m                                Traceback (most recent call last)",
      "\u001b[0;32m/tmp/ipykernel_3553/3511690282.py\u001b[0m in \u001b[0;36m<module>\u001b[0;34m\u001b[0m\n\u001b[1;32m      1\u001b[0m \u001b[0mfilename\u001b[0m \u001b[0;34m=\u001b[0m \u001b[0;34m'plot'\u001b[0m\u001b[0;34m\u001b[0m\u001b[0;34m\u001b[0m\u001b[0m\n\u001b[0;32m----> 2\u001b[0;31m df = dd.read_parquet(f\"az://{folder_name}/{filename}.parquet\",\\\n\u001b[0m\u001b[1;32m      3\u001b[0m                      \u001b[0mengine\u001b[0m\u001b[0;34m=\u001b[0m\u001b[0;34m'fastparquet'\u001b[0m\u001b[0;34m,\u001b[0m\u001b[0;31m\\\u001b[0m\u001b[0;34m\u001b[0m\u001b[0;34m\u001b[0m\u001b[0m\n\u001b[1;32m      4\u001b[0m                      storage_options={'account_name':storage_account_name}).compute()\n\u001b[1;32m      5\u001b[0m \u001b[0mdf\u001b[0m\u001b[0;34m.\u001b[0m\u001b[0mhead\u001b[0m\u001b[0;34m(\u001b[0m\u001b[0;34m)\u001b[0m\u001b[0;34m\u001b[0m\u001b[0;34m\u001b[0m\u001b[0m\n",
      "\u001b[0;32m/srv/conda/envs/notebook/lib/python3.8/site-packages/dask/dataframe/io/parquet.py\u001b[0m in \u001b[0;36mread_parquet\u001b[0;34m(path, columns, filters, categories, index, storage_options, engine, infer_divisions)\u001b[0m\n\u001b[1;32m    942\u001b[0m     \u001b[0mread\u001b[0m \u001b[0;34m=\u001b[0m \u001b[0mget_engine\u001b[0m\u001b[0;34m(\u001b[0m\u001b[0mengine\u001b[0m\u001b[0;34m)\u001b[0m\u001b[0;34m[\u001b[0m\u001b[0;34m'read'\u001b[0m\u001b[0;34m]\u001b[0m\u001b[0;34m\u001b[0m\u001b[0;34m\u001b[0m\u001b[0m\n\u001b[1;32m    943\u001b[0m \u001b[0;34m\u001b[0m\u001b[0m\n\u001b[0;32m--> 944\u001b[0;31m     fs, fs_token, paths = get_fs_token_paths(path, mode='rb',\n\u001b[0m\u001b[1;32m    945\u001b[0m                                              storage_options=storage_options)\n\u001b[1;32m    946\u001b[0m \u001b[0;34m\u001b[0m\u001b[0m\n",
      "\u001b[0;32m/srv/conda/envs/notebook/lib/python3.8/site-packages/dask/bytes/core.py\u001b[0m in \u001b[0;36mget_fs_token_paths\u001b[0;34m(urlpath, mode, num, name_function, storage_options)\u001b[0m\n\u001b[1;32m    303\u001b[0m         \u001b[0mupdate_storage_options\u001b[0m\u001b[0;34m(\u001b[0m\u001b[0moptions\u001b[0m\u001b[0;34m,\u001b[0m \u001b[0mstorage_options\u001b[0m\u001b[0;34m)\u001b[0m\u001b[0;34m\u001b[0m\u001b[0;34m\u001b[0m\u001b[0m\n\u001b[1;32m    304\u001b[0m \u001b[0;34m\u001b[0m\u001b[0m\n\u001b[0;32m--> 305\u001b[0;31m         \u001b[0mfs\u001b[0m\u001b[0;34m,\u001b[0m \u001b[0mfs_token\u001b[0m \u001b[0;34m=\u001b[0m \u001b[0mget_fs\u001b[0m\u001b[0;34m(\u001b[0m\u001b[0mprotocol\u001b[0m\u001b[0;34m,\u001b[0m \u001b[0moptions\u001b[0m\u001b[0;34m)\u001b[0m\u001b[0;34m\u001b[0m\u001b[0;34m\u001b[0m\u001b[0m\n\u001b[0m\u001b[1;32m    306\u001b[0m \u001b[0;34m\u001b[0m\u001b[0m\n\u001b[1;32m    307\u001b[0m         \u001b[0;32mif\u001b[0m \u001b[0;34m'w'\u001b[0m \u001b[0;32min\u001b[0m \u001b[0mmode\u001b[0m\u001b[0;34m:\u001b[0m\u001b[0;34m\u001b[0m\u001b[0;34m\u001b[0m\u001b[0m\n",
      "\u001b[0;32m/srv/conda/envs/notebook/lib/python3.8/site-packages/dask/bytes/core.py\u001b[0m in \u001b[0;36mget_fs\u001b[0;34m(protocol, storage_options)\u001b[0m\n\u001b[1;32m    460\u001b[0m \u001b[0;34m\u001b[0m\u001b[0m\n\u001b[1;32m    461\u001b[0m     \u001b[0;32melse\u001b[0m\u001b[0;34m:\u001b[0m\u001b[0;34m\u001b[0m\u001b[0;34m\u001b[0m\u001b[0m\n\u001b[0;32m--> 462\u001b[0;31m         \u001b[0;32mraise\u001b[0m \u001b[0mValueError\u001b[0m\u001b[0;34m(\u001b[0m\u001b[0;34m\"Unknown protocol %s\"\u001b[0m \u001b[0;34m%\u001b[0m \u001b[0mprotocol\u001b[0m\u001b[0;34m)\u001b[0m\u001b[0;34m\u001b[0m\u001b[0;34m\u001b[0m\u001b[0m\n\u001b[0m\u001b[1;32m    463\u001b[0m \u001b[0;34m\u001b[0m\u001b[0m\n\u001b[1;32m    464\u001b[0m     \u001b[0;32mif\u001b[0m \u001b[0mstorage_options\u001b[0m \u001b[0;32mis\u001b[0m \u001b[0;32mNone\u001b[0m\u001b[0;34m:\u001b[0m\u001b[0;34m\u001b[0m\u001b[0;34m\u001b[0m\u001b[0m\n",
      "\u001b[0;31mValueError\u001b[0m: Unknown protocol az"
     ]
    }
   ],
   "source": [
    "filename = 'plot'\n",
    "df = dd.read_parquet(f\"az://{folder_name}/{filename}.parquet\",\\\n",
    "                     engine='fastparquet',\\\n",
    "                     storage_options={'account_name':storage_account_name}).compute()\n",
    "df.head()\n",
    "#filter here for data only in sentinel range\n",
    "df = df[df['MEASYEAR']>2014]\n",
    "df['DATETIME'] = [pd.to_datetime(f\"{int(i['MEASYEAR'])}-{int(i['MEASMON'])}-{int(i['MEASDAY'])}\", format='%Y-%m-%d') for _,i in df.iterrows()]"
   ]
  },
  {
   "cell_type": "code",
   "execution_count": 4,
   "id": "resistant-belief",
   "metadata": {},
   "outputs": [],
   "source": [
    "# import pandas as pd\n",
    "# import geopandas as gpd\n",
    "# import numpy as np\n",
    "\n"
   ]
  },
  {
   "cell_type": "code",
   "execution_count": 153,
   "id": "every-george",
   "metadata": {},
   "outputs": [],
   "source": [
    "#create the time-of-interest\n",
    "df['DATERANGE'] = create_daterange(df)\n",
    "\n",
    "selections = ['CN', 'INVYR', 'LAT', 'LON', 'DATETIME', 'DATERANGE']\n",
    "\n",
    "subdf = df[selections].dropna()\n",
    "gdf = gpd.GeoDataFrame(\n",
    "    subdf, geometry=gpd.points_from_xy(subdf.LON, subdf.LAT))\n",
    "\n",
    "gdf = gdf.set_crs('EPSG:4326')\n",
    "\n",
    "buffer_distance = 6400 #buffer distance of 6400m to attain a 640x640 chip at 10m resolution\n",
    "#we need to make a big enough buffer to encompass the 5km range\n",
    "#ideally, we will make a chip at the largest 1400m buffer, so the largest chip will be 140x140, or 128x128\n",
    "gdf = apply_buffer_to_points(gdf, buffer_distance)\n",
    "#create the area-of-interest\n",
    "gdf['AOI'] = [create_aoi(i['geometry']) for _,i in gdf.iterrows()]\n",
    "\n",
    "#check the area size of the aoi\n",
    "#gdf_m = gdf.to_crs(\"EPSG:3857\")\n",
    "#np.sqrt(gdf_m.area/1e06)"
   ]
  },
  {
   "cell_type": "code",
   "execution_count": 113,
   "id": "1b9ed6e6-b40e-4d56-b66c-fd9f5c06e2d1",
   "metadata": {},
   "outputs": [],
   "source": [
    "#alias the CN to UID\n",
    "import random\n",
    "import uuid\n",
    "\n",
    "uid = []\n",
    "cn = []\n",
    "for i in range(len(gdf)):\n",
    "    rnd = random.Random()\n",
    "    rnd.seed(gdf.iloc[i].CN)\n",
    "    u_uid = uuid.UUID(int=rnd.getrandbits(128), version=4)\n",
    "    uid.append(str(u_uid))\n",
    "    cn.append(gdf.iloc[i].CN)\n",
    "uid = np.array([uid]).T\n",
    "cn = np.array([cn]).T\n",
    "\n",
    "linked_df = pd.DataFrame(cn, columns = ['CN'])\n",
    "linked_df['UID'] = uid"
   ]
  },
  {
   "cell_type": "code",
   "execution_count": 114,
   "id": "a3c574b6-9758-43f1-b3bc-e71c6b3f37b3",
   "metadata": {},
   "outputs": [],
   "source": [
    "gdf = pd.merge(gdf, linked_df, on='CN')"
   ]
  },
  {
   "cell_type": "markdown",
   "id": "aggregate-azerbaijan",
   "metadata": {},
   "source": [
    "### Iterate through FIA samples and collect image chips\n",
    "Define both the area of interest and define the time range to filter images with. "
   ]
  },
  {
   "cell_type": "code",
   "execution_count": 158,
   "id": "2d0c195a-daa7-4614-9015-2af91b4ef06d",
   "metadata": {},
   "outputs": [],
   "source": [
    "sentinel2_band_query = ['AOT','B01','B02','B03','B04','B05','B06','B07','B08','B09','B11','B12','B8A','SCL'] "
   ]
  },
  {
   "cell_type": "code",
   "execution_count": 118,
   "id": "apart-debate",
   "metadata": {},
   "outputs": [],
   "source": [
    "gdf_sample = gdf.sample(5)\n",
    "sample_chips = collect_image_chips(gdf_sample)\n"
   ]
  },
  {
   "cell_type": "code",
   "execution_count": 131,
   "id": "5edb34fd-88cb-4372-b0c9-4b810be33c02",
   "metadata": {},
   "outputs": [],
   "source": [
    "item_names = [k for k,v in sample_chips[0][0].assets.items()]"
   ]
  },
  {
   "cell_type": "code",
   "execution_count": 156,
   "id": "eb2927f5-7873-4d87-a0d4-bf75220c9c71",
   "metadata": {},
   "outputs": [],
   "source": [
    "#ones you want\n",
    "band_query = item_names[:14]"
   ]
  },
  {
   "cell_type": "code",
   "execution_count": 157,
   "id": "c6df4c05-3bd2-42b0-a59d-a0b60352bc01",
   "metadata": {},
   "outputs": [
    {
     "data": {
      "text/plain": [
       "['AOT',\n",
       " 'B01',\n",
       " 'B02',\n",
       " 'B03',\n",
       " 'B04',\n",
       " 'B05',\n",
       " 'B06',\n",
       " 'B07',\n",
       " 'B08',\n",
       " 'B09',\n",
       " 'B11',\n",
       " 'B12',\n",
       " 'B8A',\n",
       " 'SCL']"
      ]
     },
     "execution_count": 157,
     "metadata": {},
     "output_type": "execute_result"
    }
   ],
   "source": [
    "band_query"
   ]
  },
  {
   "cell_type": "code",
   "execution_count": null,
   "id": "graduate-inspection",
   "metadata": {},
   "outputs": [],
   "source": [
    "#this takes too long because of the size\n",
    "#we need to use dask here"
   ]
  },
  {
   "cell_type": "markdown",
   "id": "postal-snowboard",
   "metadata": {},
   "source": [
    "### Search the collection and choose an image to render\n",
    "\n",
    "Use [pystac-client](https://github.com/stac-utils/pystac-client) to search for Sentinel 2 L2A data the range of the sample"
   ]
  },
  {
   "cell_type": "code",
   "execution_count": 137,
   "id": "9b37b28d-92f9-41cd-ad33-4bcc27fd8855",
   "metadata": {},
   "outputs": [],
   "source": [
    "i = gdf.iloc[0]\n",
    "area_of_interest= i['AOI']\n",
    "time_of_interest = i['DATERANGE']"
   ]
  },
  {
   "cell_type": "code",
   "execution_count": 138,
   "id": "furnished-acting",
   "metadata": {},
   "outputs": [
    {
     "name": "stdout",
     "output_type": "stream",
     "text": [
      "Returned 112 Items\n"
     ]
    }
   ],
   "source": [
    "catalog = Client.open(\"https://planetarycomputer.microsoft.com/api/stac/v1\")\n",
    "\n",
    "search = catalog.search(\n",
    "    collections=[\"sentinel-2-l2a\"],\n",
    "    intersects=area_of_interest,\n",
    "    datetime=time_of_interest,\n",
    "    query={\"eo:cloud_cover\": {\"lt\": 100}},\n",
    ")\n",
    "\n",
    "# Check how many items were returned\n",
    "items = list(search.get_items())\n",
    "print(f\"Returned {len(items)} Items\")"
   ]
  },
  {
   "cell_type": "code",
   "execution_count": 139,
   "id": "boxed-enclosure",
   "metadata": {},
   "outputs": [
    {
     "data": {
      "text/plain": [
       "{'datetime': '2018-12-29T16:37:01.024000Z',\n",
       " 'platform': 'Sentinel-2A',\n",
       " 'proj:epsg': 32616,\n",
       " 'instruments': ['msi'],\n",
       " 's2:mgrs_tile': '16RCU',\n",
       " 'constellation': 'Sentinel 2',\n",
       " 's2:granule_id': 'S2A_OPER_MSI_L2A_TL_ESRI_20201008T135827_A018384_T16RCU_N02.12',\n",
       " 'eo:cloud_cover': 99.440094,\n",
       " 's2:datatake_id': 'GS2A_20181229T163701_018384_N02.12',\n",
       " 's2:product_uri': 'S2A_MSIL2A_20181229T163701_N0212_R083_T16RCU_20201008T135825.SAFE',\n",
       " 's2:datastrip_id': 'S2A_OPER_MSI_L2A_DS_ESRI_20201008T135827_S20181229T163702_N02.12',\n",
       " 's2:product_type': 'S2MSI2A',\n",
       " 'sat:orbit_state': 'descending',\n",
       " 's2:datatake_type': 'INS-NOBS',\n",
       " 's2:generation_time': '2020-10-08T13:58:25.141Z',\n",
       " 'sat:relative_orbit': 83,\n",
       " 's2:water_percentage': 0.015338,\n",
       " 's2:mean_solar_zenith': 56.0844236131173,\n",
       " 's2:mean_solar_azimuth': 160.255674019091,\n",
       " 's2:processing_baseline': '02.12',\n",
       " 's2:snow_ice_percentage': 0.541919,\n",
       " 's2:vegetation_percentage': 0.0,\n",
       " 's2:thin_cirrus_percentage': 0.025899,\n",
       " 's2:cloud_shadow_percentage': 0.0,\n",
       " 's2:nodata_pixel_percentage': 0.0,\n",
       " 's2:unclassified_percentage': 0.001324,\n",
       " 's2:dark_features_percentage': 0.001228,\n",
       " 's2:not_vegetated_percentage': 9.6e-05,\n",
       " 's2:degraded_msi_data_percentage': 0.0,\n",
       " 's2:high_proba_clouds_percentage': 83.370572,\n",
       " 's2:reflectance_conversion_factor': 1.03393373854797,\n",
       " 's2:medium_proba_clouds_percentage': 16.043623,\n",
       " 's2:saturated_defective_pixel_percentage': 0.0}"
      ]
     },
     "execution_count": 139,
     "metadata": {},
     "output_type": "execute_result"
    }
   ],
   "source": [
    "items[0].properties"
   ]
  },
  {
   "cell_type": "markdown",
   "id": "ceramic-jewelry",
   "metadata": {},
   "source": [
    "We can now work directly with the [PySTAC](https://github.com/stac-utils/pystac) Items returned by the API. Here we find the least cloudy of the bunch."
   ]
  },
  {
   "cell_type": "code",
   "execution_count": 140,
   "id": "chronic-macro",
   "metadata": {},
   "outputs": [
    {
     "name": "stdout",
     "output_type": "stream",
     "text": [
      "Choosing S2B_MSIL2A_20170930T164439_R083_T16RCU_20210202T121305 from 2017-09-30 with 0.130034% cloud cover\n"
     ]
    }
   ],
   "source": [
    "least_cloudy_item = sorted(items, key=lambda item: eo.ext(item).cloud_cover)[0]\n",
    "\n",
    "print(\n",
    "    f\"Choosing {least_cloudy_item.id} from {least_cloudy_item.datetime.date()}\"\n",
    "    f\" with {eo.ext(least_cloudy_item).cloud_cover}% cloud cover\"\n",
    ")"
   ]
  },
  {
   "cell_type": "markdown",
   "id": "divine-worth",
   "metadata": {},
   "source": [
    "Get the URL to the 20m resolution visual [Cloud Optimized GeoTIFF](https://www.cogeo.org/) image."
   ]
  },
  {
   "cell_type": "code",
   "execution_count": 142,
   "id": "embedded-concentrate",
   "metadata": {},
   "outputs": [],
   "source": [
    "asset_href = least_cloudy_item.assets[\"visual\"].href\n",
    "signed_href = pc.sign(asset_href)"
   ]
  },
  {
   "cell_type": "markdown",
   "id": "alternate-enforcement",
   "metadata": {},
   "source": [
    "### Render our AOI from this image"
   ]
  },
  {
   "cell_type": "code",
   "execution_count": 143,
   "id": "ordered-boxing",
   "metadata": {},
   "outputs": [],
   "source": [
    "import rasterio\n",
    "from rasterio import windows\n",
    "from rasterio import features\n",
    "from rasterio import warp\n",
    "\n",
    "import numpy as np\n",
    "from PIL import Image"
   ]
  },
  {
   "cell_type": "code",
   "execution_count": 144,
   "id": "civic-indie",
   "metadata": {},
   "outputs": [],
   "source": [
    "with rasterio.open(signed_href) as ds:\n",
    "    aoi_bounds = features.bounds(area_of_interest)\n",
    "    warped_aoi_bounds = warp.transform_bounds(\"epsg:4326\", ds.crs, *aoi_bounds)\n",
    "    aoi_window = windows.from_bounds(transform=ds.transform, *warped_aoi_bounds)\n",
    "    band_data = ds.read(window=aoi_window)"
   ]
  },
  {
   "cell_type": "markdown",
   "id": "opening-figure",
   "metadata": {},
   "source": [
    "rasterio gives us data band-interleave format; transpose to pixel interleave, and downscale the image data for plotting."
   ]
  },
  {
   "cell_type": "code",
   "execution_count": 145,
   "id": "functioning-momentum",
   "metadata": {},
   "outputs": [
    {
     "data": {
      "text/plain": [
       "(3, 104, 104)"
      ]
     },
     "execution_count": 145,
     "metadata": {},
     "output_type": "execute_result"
    }
   ],
   "source": [
    "band_data.shape"
   ]
  }
 ],
 "metadata": {
  "kernelspec": {
   "display_name": "Python 3 (ipykernel)",
   "language": "python",
   "name": "python3"
  },
  "language_info": {
   "codemirror_mode": {
    "name": "ipython",
    "version": 3
   },
   "file_extension": ".py",
   "mimetype": "text/x-python",
   "name": "python",
   "nbconvert_exporter": "python",
   "pygments_lexer": "ipython3",
   "version": "3.8.10"
  }
 },
 "nbformat": 4,
 "nbformat_minor": 5
}
