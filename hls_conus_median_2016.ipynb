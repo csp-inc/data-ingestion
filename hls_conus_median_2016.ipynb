{
 "cells": [
  {
   "cell_type": "code",
   "execution_count": null,
   "metadata": {},
   "outputs": [],
   "source": [
    "import os\n",
    "\n",
    "import fsspec\n",
    "\n",
    "from utils import get_logger\n",
    "from utils.dask import create_cluster\n",
    "from utils.dask import upload_source\n",
    "from utils.hls.catalog import HLSCatalog\n",
    "from utils.hls.catalog import HLSBand\n",
    "from utils.hls.compute import calculate_job_median\n",
    "from utils.hls.compute import process_catalog\n",
    "\n"
   ]
  },
  {
   "cell_type": "code",
   "execution_count": null,
   "metadata": {},
   "outputs": [],
   "source": [
    "os.environ['AZ_ACCESS_KEY_USFS']=\"\"\n",
    "os.environ['AZ_ACCESS_KEY_LUMONITOREASTUS2']=\"\"\n",
    "\n",
    "catalog_url = fsspec.get_mapper(\n",
    "    f\"az://fia/catalogs/hls_conus_2015-2019.zarr\",\n",
    "    account_name=\"usfs\",\n",
    "    account_key=os.environ['AZ_ACCESS_KEY_USFS']\n",
    ")\n",
    "\n",
    "catalog = HLSCatalog.from_zarr(catalog_url)\n",
    "bands = [\n",
    "    HLSBand.COASTAL_AEROSOL,\n",
    "    HLSBand.BLUE,\n",
    "    HLSBand.GREEN,\n",
    "    HLSBand.RED,\n",
    "    HLSBand.NIR_NARROW,\n",
    "    HLSBand.SWIR1,\n",
    "    HLSBand.SWIR2,\n",
    "    HLSBand.QA  # needed for qa\n",
    "]\n",
    " \n",
    "catalog.xr_ds.attrs['bands'] = bands\n",
    "\n",
    "\n",
    "logger = get_logger('hls-conus-2016')"
   ]
  },
  {
   "cell_type": "code",
   "execution_count": null,
   "metadata": {},
   "outputs": [],
   "source": [
    "catalog.xr_ds = catalog.xr_ds.where(catalog.xr_ds['year']== 2016, drop=True)\n",
    "# Had to do this as 2 steps b/c I was getting an error about duplicate indices\n",
    "catalog.xr_ds = catalog.xr_ds.where(catalog.xr_ds['sensor']== 'L', drop=True)"
   ]
  },
  {
   "cell_type": "code",
   "execution_count": null,
   "metadata": {},
   "outputs": [],
   "source": [
    "cluster = create_cluster(64, 1, 4)\n",
    "print(f\"Cluster dashboard visible at: {cluster.dashboard_link}\")\n",
    "client = cluster.get_client()\n"
   ]
  },
  {
   "cell_type": "code",
   "execution_count": null,
   "metadata": {},
   "outputs": [],
   "source": [
    "upload_source('./utils', client)"
   ]
  },
  {
   "cell_type": "code",
   "execution_count": null,
   "metadata": {},
   "outputs": [],
   "source": [
    "process_catalog(\n",
    "    catalog=catalog.xr_ds,\n",
    "    catalog_groupby=\"index\",\n",
    "    job_fn=calculate_job_median,\n",
    "    job_groupby=\"time.year\",\n",
    "    chunks={'band': 1, 'x': 3660, 'y': 3660},\n",
    "    account_name=\"lumonitoreastus2\",\n",
    "    storage_container=\"hls\",\n",
    "    account_key=os.environ['AZ_ACCESS_KEY_LUMONITOREASTUS2'],\n",
    "    client=client,\n",
    "    concurrency=2,  # because?\n",
    "    checkpoint_path='./checkpoint',  # ?\n",
    "    logger=logger\n",
    ")"
   ]
  },
  {
   "cell_type": "code",
   "execution_count": null,
   "metadata": {},
   "outputs": [],
   "source": [
    "cluster.shutdown()"
   ]
  }
 ],
 "metadata": {
  "kernelspec": {
   "display_name": "Python 3",
   "language": "python",
   "name": "python3"
  },
  "language_info": {
   "codemirror_mode": {
    "name": "ipython",
    "version": 3
   },
   "file_extension": ".py",
   "mimetype": "text/x-python",
   "name": "python",
   "nbconvert_exporter": "python",
   "pygments_lexer": "ipython3",
   "version": "3.8.6"
  }
 },
 "nbformat": 4,
 "nbformat_minor": 4
}
