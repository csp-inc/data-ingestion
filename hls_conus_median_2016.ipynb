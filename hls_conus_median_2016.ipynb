{
 "cells": [
  {
   "cell_type": "code",
   "execution_count": 5,
   "metadata": {},
   "outputs": [],
   "source": [
    "import os\n",
    "\n",
    "import fsspec\n",
    "\n",
    "from utils import get_logger\n",
    "from utils.dask import create_cluster\n",
    "from utils.hls.catalog import HLSCatalog\n",
    "from utils.hls.catalog import HLSBand\n",
    "from utils.hls.compute import calculate_job_median\n",
    "from utils.hls.compute import jobs_from_catalog, process_jobs"
   ]
  },
  {
   "cell_type": "code",
   "execution_count": 2,
   "metadata": {},
   "outputs": [
    {
     "name": "stdout",
     "output_type": "stream",
     "text": [
      "<xarray.Dataset>\n",
      "Dimensions:  (index: 599089)\n",
      "Coordinates:\n",
      "  * index    (index) int64 0 0 0 0 0 0 0 0 0 ... 986 986 986 986 986 986 986 986\n",
      "Data variables:\n",
      "    dt       (index) datetime64[ns] dask.array<chunksize=(74887,), meta=np.ndarray>\n",
      "    scene    (index) object dask.array<chunksize=(74887,), meta=np.ndarray>\n",
      "    sensor   (index) object dask.array<chunksize=(74887,), meta=np.ndarray>\n",
      "    tile     (index) object dask.array<chunksize=(74887,), meta=np.ndarray>\n",
      "    year     (index) int64 dask.array<chunksize=(74887,), meta=np.ndarray>\n",
      "Attributes:\n",
      "    bands:    [<HLSBand.COASTAL_AEROSOL: 1>, <HLSBand.BLUE: 2>, <HLSBand.GREE...\n"
     ]
    }
   ],
   "source": [
    "os.environ['AZ_ACCESS_KEY_USFS']=\"g5Gj8mVdierdkMeQ7GpAWn+dDOabApqiSkzu8NQvIAgpxc7cyhB8spmzFbo/jomtG3A4nVJ2o1Pmn8CrIpMuDA==\"\n",
    "os.environ['AZ_ACCESS_KEY_LUMONITOREASTUS2']=\"]=9Pi0A+Cpea9GOhfpB/OSahr6mlygq/LgUS0yqQPBTPv8Dcooi0HDsUkHruH2c7N/vZumWceK+0hWVpkq+7MhYg==\"\n",
    "os.environ['AZURE_STORAGE_ACCOUNT'] = 'lumonitoreastus2'\n",
    "os.environ['AZURE_STORAGE_ACCESS_KEY'] = os.environ['AZ_ACCESS_KEY_LUMONITOREASTUS2']\n",
    "\n",
    "catalog_url = fsspec.get_mapper(\n",
    "    f\"az://fia/catalogs/hls_conus_2015-2019.zarr\",\n",
    "    account_name=\"usfs\",\n",
    "    account_key=os.environ['AZ_ACCESS_KEY_USFS']\n",
    ")\n",
    "\n",
    "catalog = HLSCatalog.from_zarr(catalog_url)\n",
    "bands = [\n",
    "    HLSBand.COASTAL_AEROSOL,\n",
    "    HLSBand.BLUE,\n",
    "    HLSBand.GREEN,\n",
    "    HLSBand.RED,\n",
    "    HLSBand.NIR_NARROW,\n",
    "    HLSBand.SWIR1,\n",
    "    HLSBand.SWIR2,\n",
    "    HLSBand.QA  # needed for qa\n",
    "]\n",
    " \n",
    "catalog.xr_ds.attrs['bands'] = bands\n",
    "# read the entire data once (each tile is 3660x3660)...\n",
    "chunks = {'band': 1, 'x': 3660, 'y': 3660}\n",
    "\n",
    "logger = get_logger('hls-conus-2016')\n",
    "\n",
    "print(catalog.xr_ds)"
   ]
  },
  {
   "cell_type": "code",
   "execution_count": 3,
   "metadata": {},
   "outputs": [
    {
     "name": "stdout",
     "output_type": "stream",
     "text": [
      "<xarray.Dataset>\n",
      "Dimensions:  (index: 46)\n",
      "Coordinates:\n",
      "  * index    (index) int64 631 631 631 631 631 631 ... 631 631 631 631 631 631\n",
      "Data variables:\n",
      "    dt       (index) datetime64[ns] dask.array<chunksize=(46,), meta=np.ndarray>\n",
      "    scene    (index) object dask.array<chunksize=(46,), meta=np.ndarray>\n",
      "    sensor   (index) object dask.array<chunksize=(46,), meta=np.ndarray>\n",
      "    tile     (index) object dask.array<chunksize=(46,), meta=np.ndarray>\n",
      "    year     (index) float64 dask.array<chunksize=(46,), meta=np.ndarray>\n",
      "Attributes:\n",
      "    bands:    [<HLSBand.COASTAL_AEROSOL: 1>, <HLSBand.BLUE: 2>, <HLSBand.GREE...\n"
     ]
    }
   ],
   "source": [
    "catalog.xr_ds = catalog.xr_ds.where(catalog.xr_ds['year']== 2016, drop=True)\n",
    "# Had to do this as 2 steps b/c I was getting an error about duplicate indices\n",
    "catalog.xr_ds = catalog.xr_ds.where(catalog.xr_ds['sensor']== 'L', drop=True)\n",
    "catalog.xr_ds = catalog.xr_ds.where(catalog.xr_ds['tile']=='11ULP', drop=True)\n",
    "\n",
    "print(catalog.xr_ds)"
   ]
  },
  {
   "cell_type": "code",
   "execution_count": 7,
   "metadata": {},
   "outputs": [
    {
     "name": "stdout",
     "output_type": "stream",
     "text": [
      "2021-02-04 21:01:47,223 [INFO] hls-conus-2016 - Starting cluster\n",
      "2021-02-04 21:01:56,339 [INFO] hls-conus-2016 - Cluster dashboard visible at /services/dask-gateway/clusters/default.a035a4ca4866483d9e5902ca8c493f89/status\n",
      "2021-02-04 21:01:56,371 [INFO] hls-conus-2016 - Uploading code to cluster\n",
      "2021-02-04 21:01:56,373 [INFO] hls-conus-2016 - Submitting job 11ULP\n",
      "2021-02-04 21:02:42,851 [ERROR] hls-conus-2016 - Exception from dask cluster\n",
      "Traceback (most recent call last):\n",
      "  File \"/home/jovyan/di-cog/utils/hls/compute.py\", line 264, in run_job_subset\n",
      "    result = future.result()\n",
      "  File \"/srv/conda/envs/notebook/lib/python3.8/site-packages/distributed/client.py\", line 224, in result\n",
      "    raise exc.with_traceback(tb)\n",
      "  File \"/home/jovyan/dask-worker-space/dask-worker-space/worker-3igmacow/source.zip/utils/hls/compute.py\", line 196, in calculate_job_median\n",
      "  File \"/home/jovyan/dask-worker-space/dask-worker-space/worker-3igmacow/source.zip/utils/hls/compute.py\", line 138, in save_to_zarr\n",
      "  File \"/srv/conda/envs/notebook/lib/python3.8/site-packages/xarray/core/dataset.py\", line 1745, in to_zarr\n",
      "    return to_zarr(\n",
      "  File \"/srv/conda/envs/notebook/lib/python3.8/site-packages/xarray/backends/api.py\", line 1482, in to_zarr\n",
      "    writes = writer.sync(compute=compute)\n",
      "  File \"/srv/conda/envs/notebook/lib/python3.8/site-packages/xarray/backends/common.py\", line 155, in sync\n",
      "    delayed_store = da.store(\n",
      "  File \"/srv/conda/envs/notebook/lib/python3.8/site-packages/dask/array/core.py\", line 1022, in store\n",
      "    result.compute(**kwargs)\n",
      "  File \"/srv/conda/envs/notebook/lib/python3.8/site-packages/dask/base.py\", line 279, in compute\n",
      "    (result,) = compute(self, traverse=False, **kwargs)\n",
      "  File \"/srv/conda/envs/notebook/lib/python3.8/site-packages/dask/base.py\", line 561, in compute\n",
      "    results = schedule(dsk, keys, **kwargs)\n",
      "  File \"/srv/conda/envs/notebook/lib/python3.8/site-packages/distributed/client.py\", line 2684, in get\n",
      "    results = self.gather(packed, asynchronous=asynchronous, direct=direct)\n",
      "  File \"/srv/conda/envs/notebook/lib/python3.8/site-packages/distributed/client.py\", line 1993, in gather\n",
      "    return self.sync(\n",
      "  File \"/srv/conda/envs/notebook/lib/python3.8/site-packages/distributed/client.py\", line 839, in sync\n",
      "    return sync(\n",
      "  File \"/srv/conda/envs/notebook/lib/python3.8/site-packages/distributed/utils.py\", line 340, in sync\n",
      "    raise exc.with_traceback(tb)\n",
      "  File \"/srv/conda/envs/notebook/lib/python3.8/site-packages/distributed/utils.py\", line 324, in f\n",
      "    result[0] = yield future\n",
      "  File \"/srv/conda/envs/notebook/lib/python3.8/site-packages/tornado/gen.py\", line 762, in run\n",
      "    value = future.result()\n",
      "  File \"/srv/conda/envs/notebook/lib/python3.8/site-packages/distributed/client.py\", line 1858, in _gather\n",
      "    raise exception.with_traceback(traceback)\n",
      "distributed.scheduler.KilledWorker: (\"('where-84992c0ba7dfe5cd439895fe98e411f1', 13, 0, 0)\", <Worker 'tls://10.244.62.71:46389', name: dask-worker-a035a4ca4866483d9e5902ca8c493f89-g84x9, memory: 0, processing: 5>)\n",
      "2021-02-04 21:02:42,858 [INFO] hls-conus-2016 - ()\n",
      "2021-02-04 21:02:42,904 [INFO] hls-conus-2016 - Metrics: {\"job_errors\": 1, \"job_skips\": 0, \"job_completes\": 0, \"time\": 55.68297248100862}\n"
     ]
    }
   ],
   "source": [
    "jobs = jobs_from_catalog(catalog.xr_ds, 'tile')\n",
    "\n",
    "cluster_args = dict(\n",
    "    workers=64,\n",
    "    worker_threads=1,\n",
    "    worker_memory=1,\n",
    "    scheduler_threads=4,\n",
    "    scheduler_memory=8\n",
    ")\n",
    "\n",
    "process_jobs(\n",
    "    jobs=jobs,\n",
    "    job_fn=calculate_job_median,\n",
    "    concurrency=2,  # because?\n",
    "    checkpoint_path='./checkpoint',  # ?\n",
    "    logger=logger,\n",
    "    cluster_args=cluster_args,\n",
    "    code_path='./utils',\n",
    "    job_groupby='time.year',\n",
    "    bands=bands,\n",
    "    chunks=chunks,\n",
    "    account_name='lumonitoreastus2',\n",
    "    storage_container='hls',\n",
    "    account_key=os.environ['AZ_ACCESS_KEY_LUMONITOREASTUS2']\n",
    ")"
   ]
  },
  {
   "cell_type": "code",
   "execution_count": null,
   "metadata": {},
   "outputs": [],
   "source": [
    "cluster.shutdown()"
   ]
  }
 ],
 "metadata": {
  "kernelspec": {
   "display_name": "Python 3",
   "language": "python",
   "name": "python3"
  },
  "language_info": {
   "codemirror_mode": {
    "name": "ipython",
    "version": 3
   },
   "file_extension": ".py",
   "mimetype": "text/x-python",
   "name": "python",
   "nbconvert_exporter": "python",
   "pygments_lexer": "ipython3",
   "version": "3.8.6"
  }
 },
 "nbformat": 4,
 "nbformat_minor": 4
}
