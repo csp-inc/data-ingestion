{
 "cells": [
  {
   "cell_type": "code",
   "execution_count": 1,
   "metadata": {},
   "outputs": [],
   "source": [
    "import os\n",
    "\n",
    "import fsspec\n",
    "import geopandas as gpd\n",
    "\n",
    "from utils import get_logger\n",
    "from utils.dask import create_cluster\n",
    "from utils.hls.catalog import HLSCatalog\n",
    "from utils.hls.catalog import HLSBand\n",
    "from utils.hls.compute import calculate_job_median\n",
    "from utils.hls.compute import jobs_from_catalog, process_jobs"
   ]
  },
  {
   "cell_type": "code",
   "execution_count": 2,
   "metadata": {},
   "outputs": [],
   "source": [
    "os.environ['AZURE_STORAGE_ACCOUNT'] = 'lumonitoreastus2'\n",
    "os.environ['AZURE_STORAGE_ACCESS_KEY'] = ''\n",
    "tiger_states  = gpd.read_file('zip+http://www2.census.gov/geo/tiger/GENZ2019/shp/cb_2019_us_state_5m.zip').to_crs('EPSG:4326')\n",
    "\n",
    "unneeded_states = ['AK', 'GU', 'PR', 'VI', 'MP', 'AS', 'HI']\n",
    "conus = tiger_states[~tiger_states.STUSPS.isin(unneeded_states)].dissolve(by=\"LSAD\")\n",
    "\n",
    "bands = [\n",
    "    HLSBand.COASTAL_AEROSOL,\n",
    "    HLSBand.BLUE,\n",
    "    HLSBand.GREEN,\n",
    "    HLSBand.RED,\n",
    "    HLSBand.NIR_NARROW,\n",
    "    HLSBand.SWIR1,\n",
    "    HLSBand.SWIR2,\n",
    "    HLSBand.QA  # needed for qa\n",
    "]\n",
    " \n"
   ]
  },
  {
   "cell_type": "code",
   "execution_count": null,
   "metadata": {},
   "outputs": [],
   "source": [
    "year = 2016 # or 2013 or 2020, etc\n",
    "catalog = HLSCatalog.from_geom(geom=conus, years=[year], bands=bands)\n",
    "\n",
    "# read the entire data once (each tile is 3660x3660)...\n",
    "chunks = {'band': 1, 'x': 3660, 'y': 3660}\n",
    "\n",
    "logger = get_logger('hls-conus')\n",
    "\n",
    "catalog.xr_ds = catalog.xr_ds.where(catalog.xr_ds['year']== year, drop=True)\n",
    "catalog.xr_ds = catalog.xr_ds.where(catalog.xr_ds['sensor']== 'L', drop=True)\n",
    "print(catalog.xr_ds)\n",
    "\n"
   ]
  },
  {
   "cell_type": "code",
   "execution_count": null,
   "metadata": {},
   "outputs": [],
   "source": [
    "jobs = jobs_from_catalog(catalog.xr_ds, 'tile')\n",
    "\n",
    "cluster_args = dict(\n",
    "    workers=64,\n",
    "    worker_threads=1,\n",
    "    worker_memory=8,\n",
    "    scheduler_threads=4,\n",
    "    scheduler_memory=8,\n",
    "    environment_options = dict(\n",
    "        AZURE_STORAGE_ACCOUNT=os.environ['AZURE_STORAGE_ACCOUNT'],\n",
    "        AZURE_STORAGE_ACCESS_KEY=os.environ['AZURE_STORAGE_ACCESS_KEY'],\n",
    "        CPL_VSIL_USE_TEMP_FILE_FOR_RANDOM_WRITE='YES'\n",
    "    )\n",
    ")\n",
    "\n",
    "process_jobs(\n",
    "    jobs=jobs,\n",
    "    job_fn=calculate_job_median,\n",
    "    concurrency=4,\n",
    "    checkpoint_path='./checkpoint',\n",
    "    logger=logger,\n",
    "    cluster_args=cluster_args,\n",
    "    code_path='./utils',\n",
    "    job_groupby='time.year',\n",
    "    bands=bands,\n",
    "    chunks=chunks,\n",
    "    account_name=os.environ['AZURE_STORAGE_ACCOUNT'],\n",
    "    account_key=os.environ['AZURE_STORAGE_ACCESS_KEY'],\n",
    "    storage_container='hls',\n",
    "    subfolder=f\"zarr/{str(year)}\"\n",
    ")"
   ]
  },
  {
   "cell_type": "code",
   "execution_count": null,
   "metadata": {},
   "outputs": [],
   "source": []
  }
 ],
 "metadata": {
  "kernelspec": {
   "display_name": "Python 3 (ipykernel)",
   "language": "python",
   "name": "python3"
  },
  "language_info": {
   "codemirror_mode": {
    "name": "ipython",
    "version": 3
   },
   "file_extension": ".py",
   "mimetype": "text/x-python",
   "name": "python",
   "nbconvert_exporter": "python",
   "pygments_lexer": "ipython3",
   "version": "3.8.10"
  }
 },
 "nbformat": 4,
 "nbformat_minor": 4
}
