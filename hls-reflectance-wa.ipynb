{
 "cells": [
  {
   "cell_type": "code",
   "execution_count": 1,
   "metadata": {},
   "outputs": [],
   "source": [
    "import os\n",
    "import time\n",
    "\n",
    "# pip/conda installed\n",
    "import dask.array as da\n",
    "import fsspec\n",
    "import pandas as pd\n",
    "import xarray as xr\n",
    "from dask.distributed import as_completed\n",
    "from dask.distributed import Client\n",
    "from dask.distributed import performance_report\n",
    "from dask_gateway import GatewayCluster\n",
    "\n",
    "from utils import get_logger\n",
    "from utils.dask import create_cluster\n",
    "from utils.dask import upload_source\n",
    "from utils.hls.catalog import HLSBand\n",
    "from utils.hls.catalog import HLSCatalog\n",
    "from utils.hls.catalog import scene_to_urls\n",
    "from utils.hls.compute import process_catalog\n",
    "from utils.hls.compute import calculate_job_median"
   ]
  },
  {
   "cell_type": "code",
   "execution_count": 2,
   "metadata": {},
   "outputs": [],
   "source": [
    "logger = get_logger('hls-wa-test')"
   ]
  },
  {
   "cell_type": "code",
   "execution_count": 3,
   "metadata": {},
   "outputs": [],
   "source": [
    "# fill with your account key\n",
    "os.environ['AZURE_ACCOUNT_KEY'] = \"\""
   ]
  },
  {
   "cell_type": "code",
   "execution_count": 4,
   "metadata": {},
   "outputs": [],
   "source": [
    "# read the entire data once (each tile is 3660x3660)...\n",
    "chunks = {'band': 1, 'x': 3660, 'y': 3660}"
   ]
  },
  {
   "cell_type": "code",
   "execution_count": 5,
   "metadata": {},
   "outputs": [],
   "source": [
    "catalog_url = fsspec.get_mapper(\n",
    "    f\"az://fia/catalogs/hls_wa_2015-2019.zarr\",\n",
    "    account_name=\"usfs\",\n",
    "    account_key=os.environ['AZURE_ACCOUNT_KEY']\n",
    ")\n",
    "catalog = HLSCatalog.from_zarr(catalog_url)"
   ]
  },
  {
   "cell_type": "code",
   "execution_count": 6,
   "metadata": {},
   "outputs": [
    {
     "name": "stdout",
     "output_type": "stream",
     "text": [
      "2021-01-15 00:50:01,808 [INFO] hls-wa-test - Uploading code to workers\n"
     ]
    },
    {
     "data": {
      "application/vnd.jupyter.widget-view+json": {
       "model_id": "55c18731960d437e93091c58f3d4bbda",
       "version_major": 2,
       "version_minor": 0
      },
      "text/plain": [
       "VBox(children=(HTML(value='<h2>GatewayCluster</h2>'), HBox(children=(HTML(value='\\n<div>\\n<style scoped>\\n    …"
      ]
     },
     "metadata": {},
     "output_type": "display_data"
    }
   ],
   "source": [
    "num_workers = 64\n",
    "cluster = create_cluster(\n",
    "    workers=num_workers,\n",
    "    worker_threads=1,\n",
    "    worker_memory=8,\n",
    "    scheduler_threads=4,\n",
    "    scheduler_memory=8\n",
    ")\n",
    "client = cluster.get_client()\n",
    "logger.info(\"Uploading code to workers\")\n",
    "upload_source('./utils', client)\n",
    "cluster"
   ]
  },
  {
   "cell_type": "code",
   "execution_count": 7,
   "metadata": {},
   "outputs": [],
   "source": [
    "account_name=\"usfs\"\n",
    "storage_container=\"fia/hls-testing/wa\"\n",
    "account_key=os.environ[\"AZURE_ACCOUNT_KEY\"]\n",
    "catalog_groupby = \"tile\"\n",
    "job_groupby = \"time.month\""
   ]
  },
  {
   "cell_type": "code",
   "execution_count": 8,
   "metadata": {},
   "outputs": [],
   "source": [
    "# Filter to scenes from 2018 and later, then group by year\n",
    "yr_catalogs = catalog.xr_ds.where(catalog.xr_ds['year'] >= 2018, drop=True).groupby('year')"
   ]
  },
  {
   "cell_type": "code",
   "execution_count": 9,
   "metadata": {},
   "outputs": [
    {
     "name": "stdout",
     "output_type": "stream",
     "text": [
      "2021-01-15 00:50:09,144 [INFO] hls-wa-test - Starting process for 2018.0\n",
      "xarray.Dataset {\n",
      "dimensions:\n",
      "\tindex = 7660 ;\n",
      "\n",
      "variables:\n",
      "\tdatetime64[ns] dt(index) ;\n",
      "\tobject scene(index) ;\n",
      "\tobject sensor(index) ;\n",
      "\tobject tile(index) ;\n",
      "\tfloat64 year(index) ;\n",
      "\tint64 index(index) ;\n",
      "\n",
      "// global attributes:\n",
      "\t:bands = [<HLSBand.COASTAL_AEROSOL: 1>, <HLSBand.BLUE: 2>, <HLSBand.GREEN: 3>, <HLSBand.RED: 4>, <HLSBand.NIR_NARROW: 5>, <HLSBand.SWIR1: 6>, <HLSBand.SWIR2: 7>, <HLSBand.CIRRUS: 8>, <HLSBand.QA: 11>] ;\n",
      "}2021-01-15 00:50:23,248 [INFO] hls-wa-test - Skipping checkpointed job 10TCT\n",
      "2021-01-15 00:50:23,249 [INFO] hls-wa-test - Skipping checkpointed job 10TDR\n",
      "2021-01-15 00:50:23,249 [INFO] hls-wa-test - Skipping checkpointed job 10TDS\n",
      "2021-01-15 00:50:23,250 [INFO] hls-wa-test - Skipping checkpointed job 10TDT\n",
      "2021-01-15 00:50:23,250 [INFO] hls-wa-test - Skipping checkpointed job 10TER\n",
      "2021-01-15 00:50:23,251 [INFO] hls-wa-test - Skipping checkpointed job 10TES\n",
      "2021-01-15 00:50:23,252 [INFO] hls-wa-test - Skipping checkpointed job 10TET\n",
      "2021-01-15 00:50:23,252 [INFO] hls-wa-test - Skipping checkpointed job 10TFR\n",
      "2021-01-15 00:50:23,253 [INFO] hls-wa-test - Skipping checkpointed job 10TFS\n",
      "2021-01-15 00:50:23,253 [INFO] hls-wa-test - Skipping checkpointed job 10TFT\n",
      "2021-01-15 00:50:23,253 [INFO] hls-wa-test - Skipping checkpointed job 10TGR\n",
      "2021-01-15 00:50:23,255 [INFO] hls-wa-test - Skipping checkpointed job 10TGS\n",
      "2021-01-15 00:50:23,256 [INFO] hls-wa-test - Skipping checkpointed job 10TGT\n",
      "2021-01-15 00:50:23,256 [INFO] hls-wa-test - Skipping checkpointed job 10UCU\n",
      "2021-01-15 00:50:23,256 [INFO] hls-wa-test - Skipping checkpointed job 10UCV\n",
      "2021-01-15 00:50:23,257 [INFO] hls-wa-test - Skipping checkpointed job 10UDU\n",
      "2021-01-15 00:50:23,257 [INFO] hls-wa-test - Skipping checkpointed job 10UDV\n",
      "2021-01-15 00:50:23,258 [INFO] hls-wa-test - Skipping checkpointed job 10UEU\n",
      "2021-01-15 00:50:23,258 [INFO] hls-wa-test - Skipping checkpointed job 10UEV\n",
      "2021-01-15 00:50:23,259 [INFO] hls-wa-test - Skipping checkpointed job 10UFU\n",
      "2021-01-15 00:50:23,259 [INFO] hls-wa-test - Skipping checkpointed job 10UFV\n",
      "2021-01-15 00:50:23,259 [INFO] hls-wa-test - Skipping checkpointed job 10UGU\n",
      "2021-01-15 00:50:23,260 [INFO] hls-wa-test - Skipping checkpointed job 10UGV\n",
      "2021-01-15 00:50:23,260 [INFO] hls-wa-test - Skipping checkpointed job 11TLL\n",
      "2021-01-15 00:50:23,262 [INFO] hls-wa-test - Skipping checkpointed job 11TLM\n",
      "2021-01-15 00:50:23,262 [INFO] hls-wa-test - Skipping checkpointed job 11TLN\n",
      "2021-01-15 00:50:23,263 [INFO] hls-wa-test - Skipping checkpointed job 11TML\n",
      "2021-01-15 00:50:23,263 [INFO] hls-wa-test - Skipping checkpointed job 11TMM\n",
      "2021-01-15 00:50:23,264 [INFO] hls-wa-test - Skipping checkpointed job 11TMN\n",
      "2021-01-15 00:50:23,264 [INFO] hls-wa-test - Skipping checkpointed job 11TNL\n",
      "2021-01-15 00:50:23,265 [INFO] hls-wa-test - Skipping checkpointed job 11TNM\n",
      "2021-01-15 00:50:23,265 [INFO] hls-wa-test - Skipping checkpointed job 11TNN\n",
      "2021-01-15 00:50:23,266 [INFO] hls-wa-test - Skipping checkpointed job 11ULP\n",
      "2021-01-15 00:50:23,266 [INFO] hls-wa-test - Skipping checkpointed job 11ULQ\n",
      "2021-01-15 00:50:23,266 [INFO] hls-wa-test - Skipping checkpointed job 11UMP\n",
      "2021-01-15 00:50:23,267 [INFO] hls-wa-test - Skipping checkpointed job 11UMQ\n",
      "2021-01-15 00:50:23,267 [INFO] hls-wa-test - Skipping checkpointed job 11UNP\n",
      "2021-01-15 00:50:23,267 [INFO] hls-wa-test - Skipping checkpointed job 11UNQ\n",
      "2021-01-15 00:50:23,268 [INFO] hls-wa-test - Metrics: {\"job_errors\": 0, \"job_skips\": 38, \"job_completes\": 0, \"time\": 0.02339141399897926}\n",
      "2021-01-15 00:50:23,279 [INFO] hls-wa-test - Starting process for 2019.0\n",
      "xarray.Dataset {\n",
      "dimensions:\n",
      "\tindex = 8385 ;\n",
      "\n",
      "variables:\n",
      "\tdatetime64[ns] dt(index) ;\n",
      "\tobject scene(index) ;\n",
      "\tobject sensor(index) ;\n",
      "\tobject tile(index) ;\n",
      "\tfloat64 year(index) ;\n",
      "\tint64 index(index) ;\n",
      "\n",
      "// global attributes:\n",
      "\t:bands = [<HLSBand.COASTAL_AEROSOL: 1>, <HLSBand.BLUE: 2>, <HLSBand.GREEN: 3>, <HLSBand.RED: 4>, <HLSBand.NIR_NARROW: 5>, <HLSBand.SWIR1: 6>, <HLSBand.SWIR2: 7>, <HLSBand.CIRRUS: 8>, <HLSBand.QA: 11>] ;\n",
      "}2021-01-15 00:50:40,494 [INFO] hls-wa-test - Skipping checkpointed job 10TCT\n",
      "2021-01-15 00:50:40,495 [INFO] hls-wa-test - Skipping checkpointed job 10TDR\n",
      "2021-01-15 00:50:40,496 [INFO] hls-wa-test - Skipping checkpointed job 10TDS\n",
      "2021-01-15 00:50:40,496 [INFO] hls-wa-test - Submitting job 10TDT\n",
      "2021-01-15 00:50:41,075 [INFO] hls-wa-test - Submitting job 10TER\n",
      "2021-01-15 00:53:47,469 [INFO] hls-wa-test - Completed job 10TER\n",
      "2021-01-15 00:53:47,470 [INFO] hls-wa-test - Skipping checkpointed job 10TES\n",
      "2021-01-15 00:53:47,471 [INFO] hls-wa-test - Submitting job 10TET\n",
      "2021-01-15 00:54:06,294 [INFO] hls-wa-test - Completed job 10TDT\n",
      "2021-01-15 00:54:06,295 [INFO] hls-wa-test - Submitting job 10TFR\n",
      "2021-01-15 00:57:02,791 [INFO] hls-wa-test - Completed job 10TET\n",
      "2021-01-15 00:57:02,792 [INFO] hls-wa-test - Submitting job 10TFS\n",
      "2021-01-15 00:57:03,641 [INFO] hls-wa-test - Completed job 10TFR\n",
      "2021-01-15 00:57:03,642 [INFO] hls-wa-test - Submitting job 10TFT\n",
      "2021-01-15 00:57:14,743 [ERROR] hls-wa-test - Exception from dask cluster\n",
      "Traceback (most recent call last):\n",
      "  File \"/home/jovyan/data-ingestion/utils/hls/compute.py\", line 281, in process_catalog\n",
      "    result = future.result()\n",
      "  File \"/srv/conda/envs/notebook/lib/python3.8/site-packages/distributed/client.py\", line 224, in result\n",
      "    raise exc.with_traceback(tb)\n",
      "  File \"/srv/conda/envs/notebook/lib/python3.8/site-packages/dask/utils.py\", line 30, in apply\n",
      "    return func(*args, **kwargs)\n",
      "  File \"/home/jovyan/dask-worker-space/dask-worker-space/worker-749u4hvj/source.zip/utils/hls/compute.py\", line 48, in fetch_band_url\n",
      "  File \"/srv/conda/envs/notebook/lib/python3.8/site-packages/xarray/backends/rasterio_.py\", line 327, in open_rasterio\n",
      "    meta = parsers[driver](riods.tags())\n",
      "  File \"rasterio/_base.pyx\", line 1024, in rasterio._base.DatasetBase.tags\n",
      "UnicodeDecodeError: 'utf-8' codec can't decode byte 0xf9 in position 31: invalid start byte\n",
      "2021-01-15 00:57:14,745 [INFO] hls-wa-test - Submitting job 10TGR\n",
      "2021-01-15 01:00:17,636 [INFO] hls-wa-test - Completed job 10TGR\n",
      "2021-01-15 01:00:17,637 [INFO] hls-wa-test - Submitting job 10TGS\n",
      "2021-01-15 01:00:37,749 [INFO] hls-wa-test - Completed job 10TFS\n",
      "2021-01-15 01:00:37,751 [INFO] hls-wa-test - Submitting job 10TGT\n",
      "2021-01-15 01:03:12,753 [INFO] hls-wa-test - Completed job 10TGS\n",
      "2021-01-15 01:03:12,755 [INFO] hls-wa-test - Submitting job 10UCU\n",
      "2021-01-15 01:03:18,617 [INFO] hls-wa-test - Completed job 10TGT\n",
      "2021-01-15 01:03:18,618 [INFO] hls-wa-test - Submitting job 10UCV\n",
      "2021-01-15 01:06:11,660 [INFO] hls-wa-test - Completed job 10UCU\n",
      "2021-01-15 01:06:11,661 [INFO] hls-wa-test - Submitting job 10UDU\n",
      "2021-01-15 01:06:27,784 [INFO] hls-wa-test - Completed job 10UCV\n",
      "2021-01-15 01:06:27,785 [INFO] hls-wa-test - Submitting job 10UDV\n",
      "2021-01-15 01:07:59,154 [INFO] hls-wa-test - Completed job 10UDU\n",
      "2021-01-15 01:07:59,156 [INFO] hls-wa-test - Submitting job 10UEU\n",
      "2021-01-15 01:09:53,682 [INFO] hls-wa-test - Completed job 10UDV\n",
      "2021-01-15 01:09:53,684 [INFO] hls-wa-test - Submitting job 10UEV\n",
      "2021-01-15 01:10:47,261 [INFO] hls-wa-test - Completed job 10UEU\n",
      "2021-01-15 01:10:47,262 [INFO] hls-wa-test - Submitting job 10UFU\n",
      "2021-01-15 01:13:38,145 [INFO] hls-wa-test - Completed job 10UEV\n",
      "2021-01-15 01:13:38,151 [INFO] hls-wa-test - Submitting job 10UFV\n",
      "2021-01-15 01:14:04,566 [INFO] hls-wa-test - Completed job 10UFU\n",
      "2021-01-15 01:14:04,567 [INFO] hls-wa-test - Submitting job 10UGU\n"
     ]
    },
    {
     "ename": "KeyboardInterrupt",
     "evalue": "",
     "output_type": "error",
     "traceback": [
      "\u001b[0;31m---------------------------------------------------------------------------\u001b[0m",
      "\u001b[0;31mKeyboardInterrupt\u001b[0m                         Traceback (most recent call last)",
      "\u001b[0;32m<ipython-input-9-20e87bdaae07>\u001b[0m in \u001b[0;36m<module>\u001b[0;34m\u001b[0m\n\u001b[1;32m      5\u001b[0m         \u001b[0mstorage_prefix\u001b[0m \u001b[0;34m=\u001b[0m \u001b[0;34mf\"{storage_container}/{yr}\"\u001b[0m\u001b[0;34m\u001b[0m\u001b[0;34m\u001b[0m\u001b[0m\n\u001b[1;32m      6\u001b[0m         \u001b[0mcheckpoint_path\u001b[0m \u001b[0;34m=\u001b[0m \u001b[0;34mf\"wa/{yr}.txt\"\u001b[0m\u001b[0;34m\u001b[0m\u001b[0;34m\u001b[0m\u001b[0m\n\u001b[0;32m----> 7\u001b[0;31m         process_catalog(\n\u001b[0m\u001b[1;32m      8\u001b[0m             \u001b[0mcatalog\u001b[0m\u001b[0;34m=\u001b[0m\u001b[0mca\u001b[0m\u001b[0;34m,\u001b[0m\u001b[0;34m\u001b[0m\u001b[0;34m\u001b[0m\u001b[0m\n\u001b[1;32m      9\u001b[0m             \u001b[0mcatalog_groupby\u001b[0m\u001b[0;34m=\u001b[0m\u001b[0mcatalog_groupby\u001b[0m\u001b[0;34m,\u001b[0m\u001b[0;34m\u001b[0m\u001b[0;34m\u001b[0m\u001b[0m\n",
      "\u001b[0;32m~/data-ingestion/utils/hls/compute.py\u001b[0m in \u001b[0;36mprocess_catalog\u001b[0;34m(catalog, catalog_groupby, job_fn, job_groupby, chunks, account_name, storage_container, account_key, client, concurrency, checkpoint_path, logger)\u001b[0m\n\u001b[1;32m    277\u001b[0m     \u001b[0;31m# wait on completed jobs\u001b[0m\u001b[0;34m\u001b[0m\u001b[0;34m\u001b[0m\u001b[0;34m\u001b[0m\u001b[0m\n\u001b[1;32m    278\u001b[0m     \u001b[0mac\u001b[0m \u001b[0;34m=\u001b[0m \u001b[0mas_completed\u001b[0m\u001b[0;34m(\u001b[0m\u001b[0mfirst_futures\u001b[0m\u001b[0;34m)\u001b[0m\u001b[0;34m\u001b[0m\u001b[0;34m\u001b[0m\u001b[0m\n\u001b[0;32m--> 279\u001b[0;31m     \u001b[0;32mfor\u001b[0m \u001b[0mfuture\u001b[0m \u001b[0;32min\u001b[0m \u001b[0mac\u001b[0m\u001b[0;34m:\u001b[0m\u001b[0;34m\u001b[0m\u001b[0;34m\u001b[0m\u001b[0m\n\u001b[0m\u001b[1;32m    280\u001b[0m         \u001b[0;32mtry\u001b[0m\u001b[0;34m:\u001b[0m\u001b[0;34m\u001b[0m\u001b[0;34m\u001b[0m\u001b[0m\n\u001b[1;32m    281\u001b[0m             \u001b[0mresult\u001b[0m \u001b[0;34m=\u001b[0m \u001b[0mfuture\u001b[0m\u001b[0;34m.\u001b[0m\u001b[0mresult\u001b[0m\u001b[0;34m(\u001b[0m\u001b[0;34m)\u001b[0m\u001b[0;34m\u001b[0m\u001b[0;34m\u001b[0m\u001b[0m\n",
      "\u001b[0;32m/srv/conda/envs/notebook/lib/python3.8/site-packages/distributed/client.py\u001b[0m in \u001b[0;36m__next__\u001b[0;34m(self)\u001b[0m\n\u001b[1;32m   4449\u001b[0m                 \u001b[0;32mraise\u001b[0m \u001b[0mStopIteration\u001b[0m\u001b[0;34m(\u001b[0m\u001b[0;34m)\u001b[0m\u001b[0;34m\u001b[0m\u001b[0;34m\u001b[0m\u001b[0m\n\u001b[1;32m   4450\u001b[0m             \u001b[0;32mwith\u001b[0m \u001b[0mself\u001b[0m\u001b[0;34m.\u001b[0m\u001b[0mthread_condition\u001b[0m\u001b[0;34m:\u001b[0m\u001b[0;34m\u001b[0m\u001b[0;34m\u001b[0m\u001b[0m\n\u001b[0;32m-> 4451\u001b[0;31m                 \u001b[0mself\u001b[0m\u001b[0;34m.\u001b[0m\u001b[0mthread_condition\u001b[0m\u001b[0;34m.\u001b[0m\u001b[0mwait\u001b[0m\u001b[0;34m(\u001b[0m\u001b[0mtimeout\u001b[0m\u001b[0;34m=\u001b[0m\u001b[0;36m0.100\u001b[0m\u001b[0;34m)\u001b[0m\u001b[0;34m\u001b[0m\u001b[0;34m\u001b[0m\u001b[0m\n\u001b[0m\u001b[1;32m   4452\u001b[0m         \u001b[0;32mreturn\u001b[0m \u001b[0mself\u001b[0m\u001b[0;34m.\u001b[0m\u001b[0m_get_and_raise\u001b[0m\u001b[0;34m(\u001b[0m\u001b[0;34m)\u001b[0m\u001b[0;34m\u001b[0m\u001b[0;34m\u001b[0m\u001b[0m\n\u001b[1;32m   4453\u001b[0m \u001b[0;34m\u001b[0m\u001b[0m\n",
      "\u001b[0;32m/srv/conda/envs/notebook/lib/python3.8/threading.py\u001b[0m in \u001b[0;36mwait\u001b[0;34m(self, timeout)\u001b[0m\n\u001b[1;32m    304\u001b[0m             \u001b[0;32melse\u001b[0m\u001b[0;34m:\u001b[0m\u001b[0;34m\u001b[0m\u001b[0;34m\u001b[0m\u001b[0m\n\u001b[1;32m    305\u001b[0m                 \u001b[0;32mif\u001b[0m \u001b[0mtimeout\u001b[0m \u001b[0;34m>\u001b[0m \u001b[0;36m0\u001b[0m\u001b[0;34m:\u001b[0m\u001b[0;34m\u001b[0m\u001b[0;34m\u001b[0m\u001b[0m\n\u001b[0;32m--> 306\u001b[0;31m                     \u001b[0mgotit\u001b[0m \u001b[0;34m=\u001b[0m \u001b[0mwaiter\u001b[0m\u001b[0;34m.\u001b[0m\u001b[0macquire\u001b[0m\u001b[0;34m(\u001b[0m\u001b[0;32mTrue\u001b[0m\u001b[0;34m,\u001b[0m \u001b[0mtimeout\u001b[0m\u001b[0;34m)\u001b[0m\u001b[0;34m\u001b[0m\u001b[0;34m\u001b[0m\u001b[0m\n\u001b[0m\u001b[1;32m    307\u001b[0m                 \u001b[0;32melse\u001b[0m\u001b[0;34m:\u001b[0m\u001b[0;34m\u001b[0m\u001b[0;34m\u001b[0m\u001b[0m\n\u001b[1;32m    308\u001b[0m                     \u001b[0mgotit\u001b[0m \u001b[0;34m=\u001b[0m \u001b[0mwaiter\u001b[0m\u001b[0;34m.\u001b[0m\u001b[0macquire\u001b[0m\u001b[0;34m(\u001b[0m\u001b[0;32mFalse\u001b[0m\u001b[0;34m)\u001b[0m\u001b[0;34m\u001b[0m\u001b[0;34m\u001b[0m\u001b[0m\n",
      "\u001b[0;31mKeyboardInterrupt\u001b[0m: "
     ]
    }
   ],
   "source": [
    "with performance_report(filename=\"hls-wa-report-2018.html\"):\n",
    "    for yr, ca in yr_catalogs:\n",
    "        logger.info(f\"Starting process for {yr}\")\n",
    "        ca.info()\n",
    "        storage_prefix = f\"{storage_container}/{yr}\"\n",
    "        checkpoint_path = f\"wa/{yr}.txt\"\n",
    "        process_catalog(\n",
    "            catalog=ca,\n",
    "            catalog_groupby=catalog_groupby,\n",
    "            job_fn=calculate_job_median,\n",
    "            job_groupby=job_groupby,\n",
    "            chunks=chunks,\n",
    "            account_name=account_name,\n",
    "            storage_container=storage_prefix,\n",
    "            account_key=account_key,\n",
    "            client=client,\n",
    "            concurrency=2,\n",
    "            checkpoint_path=checkpoint_path,\n",
    "            logger=logger\n",
    "        )"
   ]
  },
  {
   "cell_type": "code",
   "execution_count": 10,
   "metadata": {},
   "outputs": [],
   "source": [
    "cluster.shutdown()"
   ]
  },
  {
   "cell_type": "code",
   "execution_count": null,
   "metadata": {},
   "outputs": [],
   "source": []
  }
 ],
 "metadata": {
  "kernelspec": {
   "display_name": "Python [conda env:notebook] *",
   "language": "python",
   "name": "conda-env-notebook-py"
  },
  "language_info": {
   "codemirror_mode": {
    "name": "ipython",
    "version": 3
   },
   "file_extension": ".py",
   "mimetype": "text/x-python",
   "name": "python",
   "nbconvert_exporter": "python",
   "pygments_lexer": "ipython3",
   "version": "3.8.6"
  }
 },
 "nbformat": 4,
 "nbformat_minor": 4
}
