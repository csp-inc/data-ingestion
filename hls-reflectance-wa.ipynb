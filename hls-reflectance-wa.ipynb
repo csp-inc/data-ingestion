{
 "cells": [
  {
   "cell_type": "code",
   "execution_count": 1,
   "metadata": {},
   "outputs": [],
   "source": [
    "import os\n",
    "import time\n",
    "\n",
    "# pip/conda installed\n",
    "import dask.array as da\n",
    "import fsspec\n",
    "import pandas as pd\n",
    "import xarray as xr\n",
    "from dask.distributed import as_completed\n",
    "from dask.distributed import Client\n",
    "from dask_gateway import GatewayCluster\n",
    "\n",
    "from utils import get_logger\n",
    "from utils.dask import create_cluster\n",
    "from utils.dask import upload_source\n",
    "from utils.hls.catalog import HLSBand\n",
    "from utils.hls.catalog import HLSCatalog\n",
    "from utils.hls.catalog import scene_to_urls\n",
    "from utils.hls.compute import process_catalog\n",
    "from utils.hls.compute import calculate_job_median"
   ]
  },
  {
   "cell_type": "code",
   "execution_count": 2,
   "metadata": {},
   "outputs": [],
   "source": [
    "# read the entire data once (each tile is 3660x3660)...\n",
    "chunks = {'band': 1, 'x': 3660, 'y': 3660}"
   ]
  },
  {
   "cell_type": "code",
   "execution_count": 3,
   "metadata": {},
   "outputs": [],
   "source": [
    "# fill with your account key\n",
    "os.environ['AZURE_ACCOUNT_KEY'] = \"\""
   ]
  },
  {
   "cell_type": "code",
   "execution_count": 4,
   "metadata": {},
   "outputs": [],
   "source": [
    "catalog_url = fsspec.get_mapper(\n",
    "    f\"az://fia/catalogs/hls_wa_2015-2019.zarr\",\n",
    "    account_name=\"usfs\",\n",
    "    account_key=os.environ['AZURE_ACCOUNT_KEY']\n",
    ")\n",
    "catalog = HLSCatalog.from_zarr(catalog_url)"
   ]
  },
  {
   "cell_type": "code",
   "execution_count": 7,
   "metadata": {},
   "outputs": [
    {
     "name": "stdout",
     "output_type": "stream",
     "text": [
      "Cluster dashboard visible at: /services/dask-gateway/clusters/default.3459c119763c4537a5a9ca048ccaa495/status\n"
     ]
    },
    {
     "name": "stderr",
     "output_type": "stream",
     "text": [
      "Exception in callback None()\n",
      "handle: <Handle cancelled>\n",
      "Traceback (most recent call last):\n",
      "  File \"/srv/conda/envs/notebook/lib/python3.8/site-packages/tornado/iostream.py\", line 1391, in _do_ssl_handshake\n",
      "    self.socket.do_handshake()\n",
      "  File \"/srv/conda/envs/notebook/lib/python3.8/ssl.py\", line 1309, in do_handshake\n",
      "    self._sslobj.do_handshake()\n",
      "ssl.SSLEOFError: EOF occurred in violation of protocol (_ssl.c:1124)\n",
      "\n",
      "During handling of the above exception, another exception occurred:\n",
      "\n",
      "Traceback (most recent call last):\n",
      "  File \"/srv/conda/envs/notebook/lib/python3.8/asyncio/events.py\", line 81, in _run\n",
      "    self._context.run(self._callback, *self._args)\n",
      "  File \"/srv/conda/envs/notebook/lib/python3.8/site-packages/tornado/platform/asyncio.py\", line 189, in _handle_events\n",
      "    handler_func(fileobj, events)\n",
      "  File \"/srv/conda/envs/notebook/lib/python3.8/site-packages/tornado/iostream.py\", line 696, in _handle_events\n",
      "    self._handle_read()\n",
      "  File \"/srv/conda/envs/notebook/lib/python3.8/site-packages/tornado/iostream.py\", line 1478, in _handle_read\n",
      "    self._do_ssl_handshake()\n",
      "  File \"/srv/conda/envs/notebook/lib/python3.8/site-packages/tornado/iostream.py\", line 1400, in _do_ssl_handshake\n",
      "    return self.close(exc_info=err)\n",
      "  File \"/srv/conda/envs/notebook/lib/python3.8/site-packages/tornado/iostream.py\", line 611, in close\n",
      "    self._signal_closed()\n",
      "  File \"/srv/conda/envs/notebook/lib/python3.8/site-packages/tornado/iostream.py\", line 641, in _signal_closed\n",
      "    self._ssl_connect_future.exception()\n",
      "asyncio.exceptions.CancelledError\n"
     ]
    }
   ],
   "source": [
    "cluster = create_cluster(64, 1, 4, 2, 4)\n",
    "print(f\"Cluster dashboard visible at: {cluster.dashboard_link}\")\n",
    "client = cluster.get_client()"
   ]
  },
  {
   "cell_type": "code",
   "execution_count": 8,
   "metadata": {},
   "outputs": [],
   "source": [
    "upload_source('./', client)"
   ]
  },
  {
   "cell_type": "code",
   "execution_count": 9,
   "metadata": {},
   "outputs": [],
   "source": [
    "account_name=\"usfs\"\n",
    "storage_container=\"fia/hls/wa\"\n",
    "account_key=os.environ[\"AZURE_ACCOUNT_KEY\"]\n",
    "catalog_groupby = \"tile\"\n",
    "job_groupby = \"time.month\""
   ]
  },
  {
   "cell_type": "code",
   "execution_count": 10,
   "metadata": {},
   "outputs": [],
   "source": [
    "yr_catalogs = catalog.xr_ds.groupby('year')"
   ]
  },
  {
   "cell_type": "code",
   "execution_count": 11,
   "metadata": {},
   "outputs": [
    {
     "name": "stdout",
     "output_type": "stream",
     "text": [
      "2021-01-01 01:36:05,807 [INFO] hls-wa-test - Starting process for 2015\n",
      "xarray.Dataset {\n",
      "dimensions:\n",
      "\tindex = 2241 ;\n",
      "\n",
      "variables:\n",
      "\tdatetime64[ns] dt(index) ;\n",
      "\tint64 index(index) ;\n",
      "\tobject scene(index) ;\n",
      "\tobject sensor(index) ;\n",
      "\tobject tile(index) ;\n",
      "\tint64 year(index) ;\n",
      "\n",
      "// global attributes:\n",
      "\t:bands = [<HLSBand.COASTAL_AEROSOL: 1>, <HLSBand.BLUE: 2>, <HLSBand.GREEN: 3>, <HLSBand.RED: 4>, <HLSBand.NIR_NARROW: 5>, <HLSBand.SWIR1: 6>, <HLSBand.SWIR2: 7>, <HLSBand.CIRRUS: 8>, <HLSBand.QA: 11>] ;\n",
      "}2021-01-01 01:36:05,808 [INFO] hls-wa-test - None\n",
      "2021-01-01 01:36:19,609 [INFO] hls-wa-test - Submitting job 10TCT\n",
      "2021-01-01 01:36:19,701 [INFO] hls-wa-test - Submitting job 10TDR\n",
      "2021-01-01 01:36:19,764 [INFO] hls-wa-test - Submitting job 10TDS\n",
      "2021-01-01 01:36:19,859 [INFO] hls-wa-test - Submitting job 10TDT\n",
      "2021-01-01 01:36:19,949 [INFO] hls-wa-test - Submitting job 10TER\n",
      "2021-01-01 01:38:43,672 [INFO] hls-wa-test - Completed job 10TER\n",
      "2021-01-01 01:38:43,673 [INFO] hls-wa-test - Submitting job 10TES\n",
      "2021-01-01 01:38:45,888 [INFO] hls-wa-test - Completed job 10TDR\n",
      "2021-01-01 01:38:45,889 [INFO] hls-wa-test - Submitting job 10TET\n",
      "2021-01-01 01:38:49,114 [INFO] hls-wa-test - Completed job 10TCT\n",
      "2021-01-01 01:38:49,115 [INFO] hls-wa-test - Submitting job 10TFR\n",
      "2021-01-01 01:39:05,595 [INFO] hls-wa-test - Completed job 10TDS\n",
      "2021-01-01 01:39:05,596 [INFO] hls-wa-test - Submitting job 10TFS\n",
      "2021-01-01 01:39:05,890 [INFO] hls-wa-test - Completed job 10TDT\n",
      "2021-01-01 01:39:05,891 [INFO] hls-wa-test - Submitting job 10TFT\n",
      "2021-01-01 01:41:19,750 [INFO] hls-wa-test - Completed job 10TET\n",
      "2021-01-01 01:41:19,751 [INFO] hls-wa-test - Submitting job 10TGR\n",
      "2021-01-01 01:41:28,491 [INFO] hls-wa-test - Completed job 10TFS\n",
      "2021-01-01 01:41:28,492 [INFO] hls-wa-test - Submitting job 10TGS\n",
      "2021-01-01 01:41:29,451 [INFO] hls-wa-test - Completed job 10TFT\n",
      "2021-01-01 01:41:29,452 [INFO] hls-wa-test - Submitting job 10TGT\n",
      "2021-01-01 01:41:33,825 [INFO] hls-wa-test - Completed job 10TFR\n",
      "2021-01-01 01:41:33,826 [INFO] hls-wa-test - Submitting job 10UCU\n",
      "2021-01-01 01:41:37,423 [INFO] hls-wa-test - Completed job 10TES\n",
      "2021-01-01 01:41:37,424 [INFO] hls-wa-test - Submitting job 10UCV\n",
      "2021-01-01 01:43:56,773 [INFO] hls-wa-test - Completed job 10TGR\n",
      "2021-01-01 01:43:56,773 [INFO] hls-wa-test - Submitting job 10UDU\n",
      "2021-01-01 01:43:58,734 [INFO] hls-wa-test - Completed job 10TGS\n",
      "2021-01-01 01:43:58,735 [INFO] hls-wa-test - Submitting job 10UDV\n",
      "2021-01-01 01:44:00,871 [INFO] hls-wa-test - Completed job 10UCV\n",
      "2021-01-01 01:44:00,872 [INFO] hls-wa-test - Submitting job 10UEU\n",
      "2021-01-01 01:44:01,227 [INFO] hls-wa-test - Completed job 10TGT\n",
      "2021-01-01 01:44:01,228 [INFO] hls-wa-test - Submitting job 10UEV\n",
      "2021-01-01 01:44:04,883 [INFO] hls-wa-test - Completed job 10UCU\n",
      "2021-01-01 01:44:04,884 [INFO] hls-wa-test - Submitting job 10UFU\n",
      "2021-01-01 01:46:36,050 [INFO] hls-wa-test - Completed job 10UEU\n",
      "2021-01-01 01:46:36,050 [INFO] hls-wa-test - Submitting job 10UFV\n",
      "2021-01-01 01:46:36,670 [INFO] hls-wa-test - Completed job 10UFU\n",
      "2021-01-01 01:46:36,671 [INFO] hls-wa-test - Submitting job 10UGU\n",
      "2021-01-01 01:46:37,359 [INFO] hls-wa-test - Completed job 10UEV\n",
      "2021-01-01 01:46:37,360 [INFO] hls-wa-test - Submitting job 10UGV\n",
      "2021-01-01 01:46:37,839 [INFO] hls-wa-test - Completed job 10UDV\n",
      "2021-01-01 01:46:37,840 [INFO] hls-wa-test - Submitting job 11TLL\n",
      "2021-01-01 01:46:38,123 [INFO] hls-wa-test - Completed job 10UDU\n",
      "2021-01-01 01:46:38,124 [INFO] hls-wa-test - Submitting job 11TLM\n",
      "2021-01-01 01:49:15,940 [INFO] hls-wa-test - Completed job 10UGU\n",
      "2021-01-01 01:49:15,941 [INFO] hls-wa-test - Submitting job 11TLN\n",
      "2021-01-01 01:49:18,993 [INFO] hls-wa-test - Completed job 11TLM\n",
      "2021-01-01 01:49:18,994 [INFO] hls-wa-test - Submitting job 11TML\n",
      "2021-01-01 01:49:19,755 [INFO] hls-wa-test - Completed job 11TLL\n",
      "2021-01-01 01:49:19,756 [INFO] hls-wa-test - Submitting job 11TMM\n",
      "2021-01-01 01:49:20,060 [INFO] hls-wa-test - Completed job 10UFV\n",
      "2021-01-01 01:49:20,060 [INFO] hls-wa-test - Submitting job 11TMN\n",
      "2021-01-01 01:49:22,877 [INFO] hls-wa-test - Completed job 10UGV\n",
      "2021-01-01 01:49:22,878 [INFO] hls-wa-test - Submitting job 11TNL\n",
      "2021-01-01 01:52:07,844 [INFO] hls-wa-test - Completed job 11TML\n",
      "2021-01-01 01:52:07,845 [INFO] hls-wa-test - Submitting job 11TNM\n",
      "2021-01-01 01:52:08,194 [INFO] hls-wa-test - Completed job 11TMN\n",
      "2021-01-01 01:52:08,195 [INFO] hls-wa-test - Submitting job 11TNN\n",
      "2021-01-01 01:52:17,717 [INFO] hls-wa-test - Completed job 11TLN\n",
      "2021-01-01 01:52:17,718 [INFO] hls-wa-test - Submitting job 11ULP\n",
      "2021-01-01 01:52:18,766 [INFO] hls-wa-test - Completed job 11TMM\n",
      "2021-01-01 01:52:18,767 [INFO] hls-wa-test - Submitting job 11ULQ\n",
      "2021-01-01 01:52:21,261 [INFO] hls-wa-test - Completed job 11TNL\n",
      "2021-01-01 01:52:21,262 [INFO] hls-wa-test - Submitting job 11UMP\n",
      "2021-01-01 01:54:42,247 [INFO] hls-wa-test - Completed job 11ULQ\n",
      "2021-01-01 01:54:42,248 [INFO] hls-wa-test - Submitting job 11UMQ\n",
      "2021-01-01 01:55:01,671 [INFO] hls-wa-test - Completed job 11ULP\n",
      "2021-01-01 01:55:01,672 [INFO] hls-wa-test - Submitting job 11UNP\n",
      "2021-01-01 01:55:04,273 [INFO] hls-wa-test - Completed job 11TNN\n",
      "2021-01-01 01:55:04,274 [INFO] hls-wa-test - Submitting job 11UNQ\n",
      "2021-01-01 01:55:07,274 [INFO] hls-wa-test - Completed job 11UMP\n",
      "2021-01-01 01:55:10,040 [INFO] hls-wa-test - Completed job 11TNM\n",
      "2021-01-01 01:56:48,853 [INFO] hls-wa-test - Completed job 11UNP\n",
      "2021-01-01 01:56:48,884 [INFO] hls-wa-test - Completed job 11UMQ\n",
      "2021-01-01 01:56:51,519 [INFO] hls-wa-test - Completed job 11UNQ\n",
      "2021-01-01 01:56:51,520 [INFO] hls-wa-test - 38 completed in 1231.914526276989 seconds\n",
      "2021-01-01 01:56:51,527 [INFO] hls-wa-test - Starting process for 2016\n",
      "xarray.Dataset {\n",
      "dimensions:\n",
      "\tindex = 3704 ;\n",
      "\n",
      "variables:\n",
      "\tdatetime64[ns] dt(index) ;\n",
      "\tint64 index(index) ;\n",
      "\tobject scene(index) ;\n",
      "\tobject sensor(index) ;\n",
      "\tobject tile(index) ;\n",
      "\tint64 year(index) ;\n",
      "\n",
      "// global attributes:\n",
      "\t:bands = [<HLSBand.COASTAL_AEROSOL: 1>, <HLSBand.BLUE: 2>, <HLSBand.GREEN: 3>, <HLSBand.RED: 4>, <HLSBand.NIR_NARROW: 5>, <HLSBand.SWIR1: 6>, <HLSBand.SWIR2: 7>, <HLSBand.CIRRUS: 8>, <HLSBand.QA: 11>] ;\n",
      "}2021-01-01 01:56:51,528 [INFO] hls-wa-test - None\n",
      "2021-01-01 01:56:52,860 [INFO] hls-wa-test - Submitting job 10TCT\n",
      "2021-01-01 01:56:52,972 [INFO] hls-wa-test - Submitting job 10TDR\n",
      "2021-01-01 01:56:53,061 [INFO] hls-wa-test - Submitting job 10TDS\n",
      "2021-01-01 01:56:53,195 [INFO] hls-wa-test - Submitting job 10TDT\n",
      "2021-01-01 01:56:53,334 [INFO] hls-wa-test - Submitting job 10TER\n",
      "2021-01-01 02:01:13,890 [INFO] hls-wa-test - Completed job 10TDR\n",
      "2021-01-01 02:01:13,891 [INFO] hls-wa-test - Submitting job 10TES\n",
      "2021-01-01 02:01:14,609 [INFO] hls-wa-test - Completed job 10TER\n",
      "2021-01-01 02:01:14,610 [INFO] hls-wa-test - Submitting job 10TET\n",
      "2021-01-01 02:01:19,521 [INFO] hls-wa-test - Completed job 10TCT\n",
      "2021-01-01 02:01:19,522 [INFO] hls-wa-test - Submitting job 10TFR\n",
      "2021-01-01 02:01:30,959 [INFO] hls-wa-test - Completed job 10TDS\n",
      "2021-01-01 02:01:30,960 [INFO] hls-wa-test - Submitting job 10TFS\n",
      "2021-01-01 02:01:32,124 [INFO] hls-wa-test - Completed job 10TDT\n",
      "2021-01-01 02:01:32,125 [INFO] hls-wa-test - Submitting job 10TFT\n"
     ]
    },
    {
     "ename": "KeyboardInterrupt",
     "evalue": "",
     "output_type": "error",
     "traceback": [
      "\u001b[0;31m---------------------------------------------------------------------------\u001b[0m",
      "\u001b[0;31mKeyboardInterrupt\u001b[0m                         Traceback (most recent call last)",
      "\u001b[0;32m<ipython-input-11-c9cb0a4fc274>\u001b[0m in \u001b[0;36m<module>\u001b[0;34m\u001b[0m\n\u001b[1;32m      4\u001b[0m         \u001b[0mlogger\u001b[0m\u001b[0;34m.\u001b[0m\u001b[0minfo\u001b[0m\u001b[0;34m(\u001b[0m\u001b[0mca\u001b[0m\u001b[0;34m.\u001b[0m\u001b[0minfo\u001b[0m\u001b[0;34m(\u001b[0m\u001b[0;34m)\u001b[0m\u001b[0;34m)\u001b[0m\u001b[0;34m\u001b[0m\u001b[0;34m\u001b[0m\u001b[0m\n\u001b[1;32m      5\u001b[0m         \u001b[0mstorage_prefix\u001b[0m \u001b[0;34m=\u001b[0m \u001b[0;34mf\"{storage_container}/{yr}\"\u001b[0m\u001b[0;34m\u001b[0m\u001b[0;34m\u001b[0m\u001b[0m\n\u001b[0;32m----> 6\u001b[0;31m         process_catalog(\n\u001b[0m\u001b[1;32m      7\u001b[0m             \u001b[0mcatalog\u001b[0m\u001b[0;34m=\u001b[0m\u001b[0mca\u001b[0m\u001b[0;34m,\u001b[0m\u001b[0;34m\u001b[0m\u001b[0;34m\u001b[0m\u001b[0m\n\u001b[1;32m      8\u001b[0m             \u001b[0mcatalog_groupby\u001b[0m\u001b[0;34m=\u001b[0m\u001b[0mcatalog_groupby\u001b[0m\u001b[0;34m,\u001b[0m\u001b[0;34m\u001b[0m\u001b[0;34m\u001b[0m\u001b[0m\n",
      "\u001b[0;32m~/data-ingestion/utils/hls/compute.py\u001b[0m in \u001b[0;36mprocess_catalog\u001b[0;34m(catalog, catalog_groupby, job_fn, job_groupby, chunks, account_name, storage_container, account_key, client, concurrency, logger)\u001b[0m\n\u001b[1;32m    172\u001b[0m \u001b[0;34m\u001b[0m\u001b[0m\n\u001b[1;32m    173\u001b[0m     \u001b[0mac\u001b[0m \u001b[0;34m=\u001b[0m \u001b[0mas_completed\u001b[0m\u001b[0;34m(\u001b[0m\u001b[0mfirst_futures\u001b[0m\u001b[0;34m)\u001b[0m\u001b[0;34m\u001b[0m\u001b[0;34m\u001b[0m\u001b[0m\n\u001b[0;32m--> 174\u001b[0;31m     \u001b[0;32mfor\u001b[0m \u001b[0mfuture\u001b[0m \u001b[0;32min\u001b[0m \u001b[0mac\u001b[0m\u001b[0;34m:\u001b[0m\u001b[0;34m\u001b[0m\u001b[0;34m\u001b[0m\u001b[0m\n\u001b[0m\u001b[1;32m    175\u001b[0m         \u001b[0;32mtry\u001b[0m\u001b[0;34m:\u001b[0m\u001b[0;34m\u001b[0m\u001b[0;34m\u001b[0m\u001b[0m\n\u001b[1;32m    176\u001b[0m             \u001b[0mresult\u001b[0m \u001b[0;34m=\u001b[0m \u001b[0mfuture\u001b[0m\u001b[0;34m.\u001b[0m\u001b[0mresult\u001b[0m\u001b[0;34m(\u001b[0m\u001b[0;34m)\u001b[0m\u001b[0;34m\u001b[0m\u001b[0;34m\u001b[0m\u001b[0m\n",
      "\u001b[0;32m/srv/conda/envs/notebook/lib/python3.8/site-packages/distributed/client.py\u001b[0m in \u001b[0;36m__next__\u001b[0;34m(self)\u001b[0m\n\u001b[1;32m   4449\u001b[0m                 \u001b[0;32mraise\u001b[0m \u001b[0mStopIteration\u001b[0m\u001b[0;34m(\u001b[0m\u001b[0;34m)\u001b[0m\u001b[0;34m\u001b[0m\u001b[0;34m\u001b[0m\u001b[0m\n\u001b[1;32m   4450\u001b[0m             \u001b[0;32mwith\u001b[0m \u001b[0mself\u001b[0m\u001b[0;34m.\u001b[0m\u001b[0mthread_condition\u001b[0m\u001b[0;34m:\u001b[0m\u001b[0;34m\u001b[0m\u001b[0;34m\u001b[0m\u001b[0m\n\u001b[0;32m-> 4451\u001b[0;31m                 \u001b[0mself\u001b[0m\u001b[0;34m.\u001b[0m\u001b[0mthread_condition\u001b[0m\u001b[0;34m.\u001b[0m\u001b[0mwait\u001b[0m\u001b[0;34m(\u001b[0m\u001b[0mtimeout\u001b[0m\u001b[0;34m=\u001b[0m\u001b[0;36m0.100\u001b[0m\u001b[0;34m)\u001b[0m\u001b[0;34m\u001b[0m\u001b[0;34m\u001b[0m\u001b[0m\n\u001b[0m\u001b[1;32m   4452\u001b[0m         \u001b[0;32mreturn\u001b[0m \u001b[0mself\u001b[0m\u001b[0;34m.\u001b[0m\u001b[0m_get_and_raise\u001b[0m\u001b[0;34m(\u001b[0m\u001b[0;34m)\u001b[0m\u001b[0;34m\u001b[0m\u001b[0;34m\u001b[0m\u001b[0m\n\u001b[1;32m   4453\u001b[0m \u001b[0;34m\u001b[0m\u001b[0m\n",
      "\u001b[0;32m/srv/conda/envs/notebook/lib/python3.8/threading.py\u001b[0m in \u001b[0;36mwait\u001b[0;34m(self, timeout)\u001b[0m\n\u001b[1;32m    304\u001b[0m             \u001b[0;32melse\u001b[0m\u001b[0;34m:\u001b[0m\u001b[0;34m\u001b[0m\u001b[0;34m\u001b[0m\u001b[0m\n\u001b[1;32m    305\u001b[0m                 \u001b[0;32mif\u001b[0m \u001b[0mtimeout\u001b[0m \u001b[0;34m>\u001b[0m \u001b[0;36m0\u001b[0m\u001b[0;34m:\u001b[0m\u001b[0;34m\u001b[0m\u001b[0;34m\u001b[0m\u001b[0m\n\u001b[0;32m--> 306\u001b[0;31m                     \u001b[0mgotit\u001b[0m \u001b[0;34m=\u001b[0m \u001b[0mwaiter\u001b[0m\u001b[0;34m.\u001b[0m\u001b[0macquire\u001b[0m\u001b[0;34m(\u001b[0m\u001b[0;32mTrue\u001b[0m\u001b[0;34m,\u001b[0m \u001b[0mtimeout\u001b[0m\u001b[0;34m)\u001b[0m\u001b[0;34m\u001b[0m\u001b[0;34m\u001b[0m\u001b[0m\n\u001b[0m\u001b[1;32m    307\u001b[0m                 \u001b[0;32melse\u001b[0m\u001b[0;34m:\u001b[0m\u001b[0;34m\u001b[0m\u001b[0;34m\u001b[0m\u001b[0m\n\u001b[1;32m    308\u001b[0m                     \u001b[0mgotit\u001b[0m \u001b[0;34m=\u001b[0m \u001b[0mwaiter\u001b[0m\u001b[0;34m.\u001b[0m\u001b[0macquire\u001b[0m\u001b[0;34m(\u001b[0m\u001b[0;32mFalse\u001b[0m\u001b[0;34m)\u001b[0m\u001b[0;34m\u001b[0m\u001b[0;34m\u001b[0m\u001b[0m\n",
      "\u001b[0;31mKeyboardInterrupt\u001b[0m: "
     ]
    }
   ],
   "source": [
    "logger = get_logger('hls-wa-test')\n",
    "for yr, ca in yr_catalogs:\n",
    "        logger.info(f\"Starting process for {yr}\")\n",
    "        ca.info()\n",
    "        storage_prefix = f\"{storage_container}/{yr}\"\n",
    "        process_catalog(\n",
    "            catalog=ca,\n",
    "            catalog_groupby=catalog_groupby,\n",
    "            job_fn=calculate_job_median,\n",
    "            job_groupby=job_groupby,\n",
    "            chunks=chunks,\n",
    "            account_name=account_name,\n",
    "            storage_container=storage_container,\n",
    "            account_key=account_key,\n",
    "            client=client,\n",
    "            concurrency=5,\n",
    "            logger=logger\n",
    "        )"
   ]
  },
  {
   "cell_type": "code",
   "execution_count": 12,
   "metadata": {},
   "outputs": [],
   "source": [
    "cluster.shutdown()"
   ]
  },
  {
   "cell_type": "markdown",
   "metadata": {},
   "source": [
    "## TODO\n",
    "\n",
    "1. Do QA on results"
   ]
  }
 ],
 "metadata": {
  "kernelspec": {
   "display_name": "Python [conda env:notebook] *",
   "language": "python",
   "name": "conda-env-notebook-py"
  },
  "language_info": {
   "codemirror_mode": {
    "name": "ipython",
    "version": 3
   },
   "file_extension": ".py",
   "mimetype": "text/x-python",
   "name": "python",
   "nbconvert_exporter": "python",
   "pygments_lexer": "ipython3",
   "version": "3.8.6"
  }
 },
 "nbformat": 4,
 "nbformat_minor": 4
}
