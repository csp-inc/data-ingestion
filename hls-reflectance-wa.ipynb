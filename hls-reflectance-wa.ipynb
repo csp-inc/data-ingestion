{
 "cells": [
  {
   "cell_type": "code",
   "execution_count": 1,
   "metadata": {},
   "outputs": [],
   "source": [
    "import os\n",
    "import time\n",
    "\n",
    "# pip/conda installed\n",
    "import dask.array as da\n",
    "import fsspec\n",
    "import pandas as pd\n",
    "import xarray as xr\n",
    "from dask.distributed import as_completed\n",
    "from dask.distributed import Client\n",
    "from dask.distributed import performance_report\n",
    "from dask_gateway import GatewayCluster\n",
    "\n",
    "from utils import get_logger\n",
    "from utils.dask import create_cluster\n",
    "from utils.dask import upload_source\n",
    "from utils.hls.catalog import HLSBand\n",
    "from utils.hls.catalog import HLSCatalog\n",
    "from utils.hls.catalog import scene_to_urls\n",
    "from utils.hls.compute import process_catalog\n",
    "from utils.hls.compute import calculate_job_median"
   ]
  },
  {
   "cell_type": "code",
   "execution_count": 2,
   "metadata": {},
   "outputs": [],
   "source": [
    "logger = get_logger('hls-wa-test')"
   ]
  },
  {
   "cell_type": "code",
   "execution_count": 3,
   "metadata": {},
   "outputs": [],
   "source": [
    "# fill with your account key\n",
    "os.environ['AZURE_ACCOUNT_KEY'] = \"\""
   ]
  },
  {
   "cell_type": "code",
   "execution_count": 4,
   "metadata": {},
   "outputs": [],
   "source": [
    "# read the entire data once (each tile is 3660x3660)...\n",
    "chunks = {'band': 1, 'x': 3660, 'y': 3660}"
   ]
  },
  {
   "cell_type": "code",
   "execution_count": 5,
   "metadata": {},
   "outputs": [],
   "source": [
    "catalog_url = fsspec.get_mapper(\n",
    "    f\"az://fia/catalogs/hls_wa_2015-2019.zarr\",\n",
    "    account_name=\"usfs\",\n",
    "    account_key=os.environ['AZURE_ACCOUNT_KEY']\n",
    ")\n",
    "catalog = HLSCatalog.from_zarr(catalog_url)"
   ]
  },
  {
   "cell_type": "code",
   "execution_count": 6,
   "metadata": {},
   "outputs": [],
   "source": [
    "cluster_args = dict(\n",
    "    workers=64,\n",
    "    worker_threads=1,\n",
    "    worker_memory=8,\n",
    "    scheduler_threads=4,\n",
    "    scheduler_memory=8\n",
    ")\n",
    "code_path = './utils'"
   ]
  },
  {
   "cell_type": "code",
   "execution_count": 7,
   "metadata": {},
   "outputs": [],
   "source": [
    "account_name=\"usfs\"\n",
    "storage_container=\"fia/hls-testing/wa\"\n",
    "account_key=os.environ[\"AZURE_ACCOUNT_KEY\"]\n",
    "catalog_groupby = \"tile\"\n",
    "job_groupby = \"time.month\""
   ]
  },
  {
   "cell_type": "code",
   "execution_count": 8,
   "metadata": {},
   "outputs": [],
   "source": [
    "# Filter to scenes from 2018 and later, then group by year\n",
    "yr_catalogs = catalog.xr_ds.where(catalog.xr_ds['year'] >= 2019, drop=True).groupby('year')"
   ]
  },
  {
   "cell_type": "code",
   "execution_count": null,
   "metadata": {},
   "outputs": [
    {
     "name": "stdout",
     "output_type": "stream",
     "text": [
      "2021-01-21 02:55:47,741 [INFO] hls-wa-test - Starting process for 2019.0\n",
      "xarray.Dataset {\n",
      "dimensions:\n",
      "\tindex = 8385 ;\n",
      "\n",
      "variables:\n",
      "\tdatetime64[ns] dt(index) ;\n",
      "\tobject scene(index) ;\n",
      "\tobject sensor(index) ;\n",
      "\tobject tile(index) ;\n",
      "\tfloat64 year(index) ;\n",
      "\tint64 index(index) ;\n",
      "\n",
      "// global attributes:\n",
      "\t:bands = [<HLSBand.COASTAL_AEROSOL: 1>, <HLSBand.BLUE: 2>, <HLSBand.GREEN: 3>, <HLSBand.RED: 4>, <HLSBand.NIR_NARROW: 5>, <HLSBand.SWIR1: 6>, <HLSBand.SWIR2: 7>, <HLSBand.CIRRUS: 8>, <HLSBand.QA: 11>] ;\n",
      "}2021-01-21 02:55:48,335 [INFO] hls-wa-test - Starting cluster\n",
      "2021-01-21 02:55:59,297 [INFO] hls-wa-test - Cluster dashboard visible at /services/dask-gateway/clusters/default.685140a29ec74f62b70f95846c2353b6/status\n",
      "2021-01-21 02:55:59,321 [INFO] hls-wa-test - Uploading code to cluster\n",
      "2021-01-21 02:55:59,369 [INFO] hls-wa-test - Skipping checkpointed job 10TCT\n",
      "2021-01-21 02:55:59,370 [INFO] hls-wa-test - Skipping checkpointed job 10TDR\n",
      "2021-01-21 02:55:59,370 [INFO] hls-wa-test - Skipping checkpointed job 10TDS\n",
      "2021-01-21 02:55:59,371 [INFO] hls-wa-test - Skipping checkpointed job 10TDT\n",
      "2021-01-21 02:55:59,372 [INFO] hls-wa-test - Skipping checkpointed job 10TER\n",
      "2021-01-21 02:55:59,373 [INFO] hls-wa-test - Skipping checkpointed job 10TES\n",
      "2021-01-21 02:55:59,373 [INFO] hls-wa-test - Skipping checkpointed job 10TET\n",
      "2021-01-21 02:55:59,374 [INFO] hls-wa-test - Skipping checkpointed job 10TFR\n",
      "2021-01-21 02:55:59,374 [INFO] hls-wa-test - Skipping checkpointed job 10TFS\n",
      "2021-01-21 02:55:59,375 [INFO] hls-wa-test - Submitting job 10TFT\n",
      "2021-01-21 02:55:59,751 [INFO] hls-wa-test - Skipping checkpointed job 10TGR\n",
      "2021-01-21 02:55:59,752 [INFO] hls-wa-test - Skipping checkpointed job 10TGS\n",
      "2021-01-21 02:55:59,753 [INFO] hls-wa-test - Skipping checkpointed job 10TGT\n",
      "2021-01-21 02:55:59,753 [INFO] hls-wa-test - Skipping checkpointed job 10UCU\n",
      "2021-01-21 02:55:59,754 [INFO] hls-wa-test - Skipping checkpointed job 10UCV\n",
      "2021-01-21 02:55:59,754 [INFO] hls-wa-test - Skipping checkpointed job 10UDU\n",
      "2021-01-21 03:04:27,105 [INFO] hls-wa-test - Completed job 10TFT\n",
      "2021-01-21 03:04:27,230 [INFO] hls-wa-test - Starting cluster\n",
      "2021-01-21 03:04:38,048 [INFO] hls-wa-test - Cluster dashboard visible at /services/dask-gateway/clusters/default.b61ef0420e9647ae85837bb6dc96d005/status\n",
      "2021-01-21 03:04:38,071 [INFO] hls-wa-test - Uploading code to cluster\n",
      "2021-01-21 03:04:38,080 [INFO] hls-wa-test - Skipping checkpointed job 10UDV\n",
      "2021-01-21 03:04:38,080 [INFO] hls-wa-test - Skipping checkpointed job 10UEU\n",
      "2021-01-21 03:04:38,081 [INFO] hls-wa-test - Skipping checkpointed job 10UEV\n",
      "2021-01-21 03:04:38,081 [INFO] hls-wa-test - Skipping checkpointed job 10UFU\n",
      "2021-01-21 03:04:38,081 [INFO] hls-wa-test - Submitting job 10UFV\n",
      "2021-01-21 03:04:38,368 [INFO] hls-wa-test - Submitting job 10UGU\n",
      "2021-01-21 03:09:38,505 [INFO] hls-wa-test - Completed job 10UGU\n",
      "2021-01-21 03:09:38,506 [INFO] hls-wa-test - Submitting job 10UGV\n",
      "2021-01-21 03:09:43,894 [INFO] hls-wa-test - Completed job 10UFV\n",
      "2021-01-21 03:09:43,895 [INFO] hls-wa-test - Submitting job 11TLL\n",
      "2021-01-21 03:12:45,909 [INFO] hls-wa-test - Completed job 10UGV\n",
      "2021-01-21 03:12:45,911 [INFO] hls-wa-test - Submitting job 11TLM\n",
      "2021-01-21 03:12:58,585 [INFO] hls-wa-test - Completed job 11TLL\n",
      "2021-01-21 03:12:58,586 [INFO] hls-wa-test - Submitting job 11TLN\n",
      "2021-01-21 03:15:59,751 [INFO] hls-wa-test - Completed job 11TLN\n",
      "2021-01-21 03:15:59,752 [INFO] hls-wa-test - Submitting job 11TML\n"
     ]
    }
   ],
   "source": [
    "for yr, ca in yr_catalogs:\n",
    "    logger.info(f\"Starting process for {yr}\")\n",
    "    ca.info()\n",
    "    storage_prefix = f\"{storage_container}/{yr}\"\n",
    "    checkpoint_path = f\"wa/{yr}.txt\"\n",
    "    process_catalog(\n",
    "        catalog=ca,\n",
    "        catalog_groupby=catalog_groupby,\n",
    "        job_fn=calculate_job_median,\n",
    "        job_groupby=job_groupby,\n",
    "        chunks=chunks,\n",
    "        account_name=account_name,\n",
    "        storage_container=storage_prefix,\n",
    "        account_key=account_key,\n",
    "        checkpoint_path=checkpoint_path,\n",
    "        logger=logger,\n",
    "        cluster_args=cluster_args,\n",
    "        code_path=code_path,\n",
    "        concurrency=2,  # run 2 jobs at once\n",
    "        cluster_restart_freq=16  # restart after 16 jobs\n",
    "    )"
   ]
  },
  {
   "cell_type": "code",
   "execution_count": null,
   "metadata": {},
   "outputs": [],
   "source": []
  }
 ],
 "metadata": {
  "kernelspec": {
   "display_name": "Python [conda env:notebook] *",
   "language": "python",
   "name": "conda-env-notebook-py"
  },
  "language_info": {
   "codemirror_mode": {
    "name": "ipython",
    "version": 3
   },
   "file_extension": ".py",
   "mimetype": "text/x-python",
   "name": "python",
   "nbconvert_exporter": "python",
   "pygments_lexer": "ipython3",
   "version": "3.8.6"
  }
 },
 "nbformat": 4,
 "nbformat_minor": 4
}
