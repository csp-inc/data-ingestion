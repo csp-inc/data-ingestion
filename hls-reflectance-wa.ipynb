{
 "cells": [
  {
   "cell_type": "code",
   "execution_count": 1,
   "metadata": {},
   "outputs": [],
   "source": [
    "import os\n",
    "import time\n",
    "\n",
    "# pip/conda installed\n",
    "import dask.array as da\n",
    "import fsspec\n",
    "import pandas as pd\n",
    "import xarray as xr\n",
    "from dask.distributed import as_completed\n",
    "from dask.distributed import Client\n",
    "from dask_gateway import GatewayCluster\n",
    "\n",
    "from utils import get_logger\n",
    "from utils.dask import create_cluster\n",
    "from utils.dask import upload_source\n",
    "from utils.hls.catalog import HLSBand\n",
    "from utils.hls.catalog import HLSCatalog\n",
    "from utils.hls.catalog import scene_to_urls\n",
    "from utils.hls.compute import process_catalog\n",
    "from utils.hls.compute import calculate_job_median"
   ]
  },
  {
   "cell_type": "code",
   "execution_count": 2,
   "metadata": {},
   "outputs": [],
   "source": [
    "logger = get_logger('hls-wa-test')"
   ]
  },
  {
   "cell_type": "code",
   "execution_count": 3,
   "metadata": {},
   "outputs": [],
   "source": [
    "# fill with your account key\n",
    "os.environ['AZURE_ACCOUNT_KEY'] = \"\""
   ]
  },
  {
   "cell_type": "code",
   "execution_count": 4,
   "metadata": {},
   "outputs": [],
   "source": [
    "# read the entire data once (each tile is 3660x3660)...\n",
    "chunks = {'band': 1, 'x': 3660, 'y': 3660}"
   ]
  },
  {
   "cell_type": "code",
   "execution_count": 6,
   "metadata": {},
   "outputs": [],
   "source": [
    "catalog_url = fsspec.get_mapper(\n",
    "    f\"az://fia/catalogs/hls_wa_2015-2019.zarr\",\n",
    "    account_name=\"usfs\",\n",
    "    account_key=os.environ['AZURE_ACCOUNT_KEY']\n",
    ")\n",
    "catalog = HLSCatalog.from_zarr(catalog_url)"
   ]
  },
  {
   "cell_type": "code",
   "execution_count": 15,
   "metadata": {},
   "outputs": [
    {
     "data": {
      "application/vnd.jupyter.widget-view+json": {
       "model_id": "2e5133c0331842a2b20e4ca659194f01",
       "version_major": 2,
       "version_minor": 0
      },
      "text/plain": [
       "VBox(children=(HTML(value='<h2>GatewayCluster</h2>'), HBox(children=(HTML(value='\\n<div>\\n<style scoped>\\n    …"
      ]
     },
     "metadata": {},
     "output_type": "display_data"
    }
   ],
   "source": [
    "num_workers = 64\n",
    "cluster = create_cluster(\n",
    "    workers=num_workers,\n",
    "    worker_threads=1,\n",
    "    worker_memory=4,\n",
    "    scheduler_threads=4,\n",
    "    scheduler_memory=8\n",
    ")\n",
    "client = cluster.get_client()\n",
    "cluster"
   ]
  },
  {
   "cell_type": "code",
   "execution_count": 16,
   "metadata": {},
   "outputs": [
    {
     "name": "stdout",
     "output_type": "stream",
     "text": [
      "2021-01-13 20:50:18,147 [INFO] hls-wa-test - Waiting for cluster workers to start\n",
      "2021-01-13 20:50:30,260 [INFO] hls-wa-test - Uploading code to workers\n"
     ]
    }
   ],
   "source": [
    "# All workers must be started when source code is uploaded to them.\n",
    "logger.info(\"Waiting for cluster workers to start\")\n",
    "client.wait_for_workers(num_workers)\n",
    "logger.info(\"Uploading code to workers\")\n",
    "upload_source('./utils', client)"
   ]
  },
  {
   "cell_type": "code",
   "execution_count": 17,
   "metadata": {},
   "outputs": [],
   "source": [
    "account_name=\"usfs\"\n",
    "storage_container=\"fia/hls-testing/wa\"\n",
    "account_key=os.environ[\"AZURE_ACCOUNT_KEY\"]\n",
    "catalog_groupby = \"tile\"\n",
    "job_groupby = \"time.month\""
   ]
  },
  {
   "cell_type": "code",
   "execution_count": 18,
   "metadata": {},
   "outputs": [],
   "source": [
    "# Filter to scenes from 2015 and later, then group by year\n",
    "yr_catalogs = catalog.xr_ds.where(catalog.xr_ds['year'] >= 2015, drop=True).groupby('year')"
   ]
  },
  {
   "cell_type": "code",
   "execution_count": 19,
   "metadata": {},
   "outputs": [
    {
     "name": "stdout",
     "output_type": "stream",
     "text": [
      "2021-01-13 20:50:39,470 [INFO] hls-wa-test - Starting process for 2015.0\n",
      "xarray.Dataset {\n",
      "dimensions:\n",
      "\tindex = 2241 ;\n",
      "\n",
      "variables:\n",
      "\tdatetime64[ns] dt(index) ;\n",
      "\tobject scene(index) ;\n",
      "\tobject sensor(index) ;\n",
      "\tobject tile(index) ;\n",
      "\tfloat64 year(index) ;\n",
      "\tint64 index(index) ;\n",
      "\n",
      "// global attributes:\n",
      "\t:bands = [<HLSBand.COASTAL_AEROSOL: 1>, <HLSBand.BLUE: 2>, <HLSBand.GREEN: 3>, <HLSBand.RED: 4>, <HLSBand.NIR_NARROW: 5>, <HLSBand.SWIR1: 6>, <HLSBand.SWIR2: 7>, <HLSBand.CIRRUS: 8>, <HLSBand.QA: 11>] ;\n",
      "}2021-01-13 20:50:53,977 [INFO] hls-wa-test - Submitting job 10TCT\n",
      "2021-01-13 20:50:54,105 [INFO] hls-wa-test - Submitting job 10TDR\n",
      "2021-01-13 20:50:54,187 [INFO] hls-wa-test - Submitting job 10TDS\n",
      "2021-01-13 20:50:54,307 [INFO] hls-wa-test - Submitting job 10TDT\n",
      "2021-01-13 20:50:54,426 [INFO] hls-wa-test - Submitting job 10TER\n",
      "2021-01-13 20:53:03,355 [INFO] hls-wa-test - Completed job 10TDR\n",
      "2021-01-13 20:53:03,356 [INFO] hls-wa-test - Submitting job 10TES\n",
      "2021-01-13 20:53:10,895 [INFO] hls-wa-test - Completed job 10TER\n",
      "2021-01-13 20:53:10,896 [INFO] hls-wa-test - Submitting job 10TET\n",
      "2021-01-13 20:53:42,116 [INFO] hls-wa-test - Completed job 10TDT\n",
      "2021-01-13 20:53:42,116 [INFO] hls-wa-test - Submitting job 10TFR\n",
      "2021-01-13 20:53:42,390 [INFO] hls-wa-test - Completed job 10TCT\n",
      "2021-01-13 20:53:42,391 [INFO] hls-wa-test - Submitting job 10TFS\n",
      "2021-01-13 20:55:27,238 [INFO] hls-wa-test - Completed job 10TDS\n",
      "2021-01-13 20:55:27,239 [INFO] hls-wa-test - Submitting job 10TFT\n",
      "2021-01-13 20:55:41,587 [INFO] hls-wa-test - Completed job 10TET\n",
      "2021-01-13 20:55:41,588 [INFO] hls-wa-test - Submitting job 10TGR\n",
      "2021-01-13 20:55:42,740 [INFO] hls-wa-test - Completed job 10TFS\n",
      "2021-01-13 20:55:42,741 [INFO] hls-wa-test - Submitting job 10TGS\n",
      "2021-01-13 20:55:45,743 [INFO] hls-wa-test - Completed job 10TES\n",
      "2021-01-13 20:55:45,744 [INFO] hls-wa-test - Submitting job 10TGT\n",
      "2021-01-13 20:55:46,358 [INFO] hls-wa-test - Completed job 10TFR\n",
      "2021-01-13 20:55:46,359 [INFO] hls-wa-test - Submitting job 10UCU\n",
      "2021-01-13 20:58:04,033 [INFO] hls-wa-test - Completed job 10TGT\n",
      "2021-01-13 20:58:04,034 [INFO] hls-wa-test - Submitting job 10UCV\n",
      "2021-01-13 20:58:04,757 [INFO] hls-wa-test - Completed job 10TGS\n",
      "2021-01-13 20:58:04,757 [INFO] hls-wa-test - Submitting job 10UDU\n",
      "2021-01-13 20:58:07,158 [INFO] hls-wa-test - Completed job 10TFT\n",
      "2021-01-13 20:58:07,159 [INFO] hls-wa-test - Submitting job 10UDV\n",
      "2021-01-13 20:58:07,758 [INFO] hls-wa-test - Completed job 10TGR\n",
      "2021-01-13 20:58:07,759 [INFO] hls-wa-test - Submitting job 10UEU\n",
      "2021-01-13 20:58:12,995 [INFO] hls-wa-test - Completed job 10UCU\n",
      "2021-01-13 20:58:12,996 [INFO] hls-wa-test - Submitting job 10UEV\n",
      "2021-01-13 21:00:36,930 [INFO] hls-wa-test - Completed job 10UEU\n",
      "2021-01-13 21:00:36,930 [INFO] hls-wa-test - Submitting job 10UFU\n",
      "2021-01-13 21:00:37,042 [INFO] hls-wa-test - Completed job 10UDU\n",
      "2021-01-13 21:00:37,043 [INFO] hls-wa-test - Submitting job 10UFV\n",
      "2021-01-13 21:00:40,070 [INFO] hls-wa-test - Completed job 10UEV\n",
      "2021-01-13 21:00:40,071 [INFO] hls-wa-test - Submitting job 10UGU\n",
      "2021-01-13 21:00:40,228 [INFO] hls-wa-test - Completed job 10UCV\n",
      "2021-01-13 21:00:40,229 [INFO] hls-wa-test - Submitting job 10UGV\n",
      "2021-01-13 21:00:40,442 [INFO] hls-wa-test - Completed job 10UDV\n",
      "2021-01-13 21:00:40,446 [INFO] hls-wa-test - Submitting job 11TLL\n",
      "2021-01-13 21:03:11,371 [INFO] hls-wa-test - Completed job 10UFV\n",
      "2021-01-13 21:03:11,371 [INFO] hls-wa-test - Submitting job 11TLM\n",
      "2021-01-13 21:03:12,156 [INFO] hls-wa-test - Completed job 10UGU\n",
      "2021-01-13 21:03:12,157 [INFO] hls-wa-test - Submitting job 11TLN\n",
      "2021-01-13 21:03:12,670 [INFO] hls-wa-test - Completed job 11TLL\n",
      "2021-01-13 21:03:12,671 [INFO] hls-wa-test - Submitting job 11TML\n",
      "2021-01-13 21:03:14,079 [INFO] hls-wa-test - Completed job 10UFU\n",
      "2021-01-13 21:03:14,080 [INFO] hls-wa-test - Submitting job 11TMM\n",
      "2021-01-13 21:03:17,368 [INFO] hls-wa-test - Completed job 10UGV\n",
      "2021-01-13 21:03:17,369 [INFO] hls-wa-test - Submitting job 11TMN\n",
      "2021-01-13 21:05:51,034 [INFO] hls-wa-test - Completed job 11TMN\n",
      "2021-01-13 21:05:51,035 [INFO] hls-wa-test - Submitting job 11TNL\n",
      "2021-01-13 21:05:55,917 [INFO] hls-wa-test - Completed job 11TLM\n",
      "2021-01-13 21:05:55,918 [INFO] hls-wa-test - Submitting job 11TNM\n",
      "2021-01-13 21:05:56,793 [INFO] hls-wa-test - Completed job 11TML\n",
      "2021-01-13 21:05:56,794 [INFO] hls-wa-test - Submitting job 11TNN\n",
      "2021-01-13 21:06:02,791 [INFO] hls-wa-test - Completed job 11TLN\n",
      "2021-01-13 21:06:02,792 [INFO] hls-wa-test - Submitting job 11ULP\n",
      "2021-01-13 21:06:03,838 [INFO] hls-wa-test - Completed job 11TMM\n",
      "2021-01-13 21:06:03,838 [INFO] hls-wa-test - Submitting job 11ULQ\n",
      "2021-01-13 21:08:07,053 [INFO] hls-wa-test - Completed job 11ULQ\n",
      "2021-01-13 21:08:07,053 [INFO] hls-wa-test - Submitting job 11UMP\n",
      "2021-01-13 21:08:34,060 [INFO] hls-wa-test - Completed job 11ULP\n",
      "2021-01-13 21:08:34,061 [INFO] hls-wa-test - Submitting job 11UMQ\n",
      "2021-01-13 21:08:43,389 [INFO] hls-wa-test - Completed job 11TNN\n",
      "2021-01-13 21:08:43,390 [INFO] hls-wa-test - Submitting job 11UNP\n",
      "2021-01-13 21:10:13,895 [INFO] hls-wa-test - Completed job 11TNL\n",
      "2021-01-13 21:10:13,896 [INFO] hls-wa-test - Submitting job 11UNQ\n",
      "2021-01-13 21:10:28,989 [INFO] hls-wa-test - Completed job 11TNM\n",
      "2021-01-13 21:10:31,290 [INFO] hls-wa-test - Completed job 11UMP\n",
      "2021-01-13 21:10:31,464 [INFO] hls-wa-test - Completed job 11UNP\n",
      "2021-01-13 21:10:32,026 [INFO] hls-wa-test - Completed job 11UMQ\n",
      "2021-01-13 21:11:17,040 [INFO] hls-wa-test - Completed job 11UNQ\n",
      "2021-01-13 21:11:17,041 [INFO] hls-wa-test - 38 completed in 1223.0676180310547 seconds\n",
      "2021-01-13 21:11:17,048 [INFO] hls-wa-test - Starting process for 2016.0\n",
      "xarray.Dataset {\n",
      "dimensions:\n",
      "\tindex = 3704 ;\n",
      "\n",
      "variables:\n",
      "\tdatetime64[ns] dt(index) ;\n",
      "\tobject scene(index) ;\n",
      "\tobject sensor(index) ;\n",
      "\tobject tile(index) ;\n",
      "\tfloat64 year(index) ;\n",
      "\tint64 index(index) ;\n",
      "\n",
      "// global attributes:\n",
      "\t:bands = [<HLSBand.COASTAL_AEROSOL: 1>, <HLSBand.BLUE: 2>, <HLSBand.GREEN: 3>, <HLSBand.RED: 4>, <HLSBand.NIR_NARROW: 5>, <HLSBand.SWIR1: 6>, <HLSBand.SWIR2: 7>, <HLSBand.CIRRUS: 8>, <HLSBand.QA: 11>] ;\n",
      "}2021-01-13 21:11:18,486 [INFO] hls-wa-test - Submitting job 10TCT\n",
      "2021-01-13 21:11:18,635 [INFO] hls-wa-test - Submitting job 10TDR\n",
      "2021-01-13 21:11:18,751 [INFO] hls-wa-test - Submitting job 10TDS\n",
      "2021-01-13 21:11:18,926 [INFO] hls-wa-test - Submitting job 10TDT\n",
      "2021-01-13 21:11:19,104 [INFO] hls-wa-test - Submitting job 10TER\n",
      "2021-01-13 21:14:48,434 [INFO] hls-wa-test - Completed job 10TDR\n",
      "2021-01-13 21:14:48,435 [INFO] hls-wa-test - Submitting job 10TES\n",
      "2021-01-13 21:14:49,825 [INFO] hls-wa-test - Completed job 10TER\n",
      "2021-01-13 21:14:49,826 [INFO] hls-wa-test - Submitting job 10TET\n",
      "2021-01-13 21:15:12,159 [INFO] hls-wa-test - Completed job 10TCT\n",
      "2021-01-13 21:15:12,160 [INFO] hls-wa-test - Submitting job 10TFR\n",
      "2021-01-13 21:15:17,781 [INFO] hls-wa-test - Completed job 10TDT\n",
      "2021-01-13 21:15:17,782 [INFO] hls-wa-test - Submitting job 10TFS\n",
      "2021-01-13 21:17:20,534 [INFO] hls-wa-test - Completed job 10TDS\n",
      "2021-01-13 21:17:20,535 [INFO] hls-wa-test - Submitting job 10TFT\n",
      "2021-01-13 21:17:27,417 [INFO] hls-wa-test - Completed job 10TET\n",
      "2021-01-13 21:17:27,418 [INFO] hls-wa-test - Submitting job 10TGR\n",
      "2021-01-13 21:17:33,620 [INFO] hls-wa-test - Completed job 10TES\n",
      "2021-01-13 21:17:33,621 [INFO] hls-wa-test - Submitting job 10TGS\n",
      "2021-01-13 21:20:12,948 [INFO] hls-wa-test - Completed job 10TGR\n",
      "2021-01-13 21:20:12,949 [INFO] hls-wa-test - Submitting job 10TGT\n"
     ]
    },
    {
     "ename": "KeyboardInterrupt",
     "evalue": "",
     "output_type": "error",
     "traceback": [
      "\u001b[0;31m---------------------------------------------------------------------------\u001b[0m",
      "\u001b[0;31mKeyboardInterrupt\u001b[0m                         Traceback (most recent call last)",
      "\u001b[0;32m<ipython-input-19-b92c35c4b3e5>\u001b[0m in \u001b[0;36m<module>\u001b[0;34m\u001b[0m\n\u001b[1;32m      3\u001b[0m         \u001b[0mca\u001b[0m\u001b[0;34m.\u001b[0m\u001b[0minfo\u001b[0m\u001b[0;34m(\u001b[0m\u001b[0;34m)\u001b[0m\u001b[0;34m\u001b[0m\u001b[0;34m\u001b[0m\u001b[0m\n\u001b[1;32m      4\u001b[0m         \u001b[0mstorage_prefix\u001b[0m \u001b[0;34m=\u001b[0m \u001b[0;34mf\"{storage_container}/{yr}\"\u001b[0m\u001b[0;34m\u001b[0m\u001b[0;34m\u001b[0m\u001b[0m\n\u001b[0;32m----> 5\u001b[0;31m         process_catalog(\n\u001b[0m\u001b[1;32m      6\u001b[0m             \u001b[0mcatalog\u001b[0m\u001b[0;34m=\u001b[0m\u001b[0mca\u001b[0m\u001b[0;34m,\u001b[0m\u001b[0;34m\u001b[0m\u001b[0;34m\u001b[0m\u001b[0m\n\u001b[1;32m      7\u001b[0m             \u001b[0mcatalog_groupby\u001b[0m\u001b[0;34m=\u001b[0m\u001b[0mcatalog_groupby\u001b[0m\u001b[0;34m,\u001b[0m\u001b[0;34m\u001b[0m\u001b[0;34m\u001b[0m\u001b[0m\n",
      "\u001b[0;32m~/data-ingestion/utils/hls/compute.py\u001b[0m in \u001b[0;36mprocess_catalog\u001b[0;34m(catalog, catalog_groupby, job_fn, job_groupby, chunks, account_name, storage_container, account_key, client, concurrency, logger)\u001b[0m\n\u001b[1;32m    249\u001b[0m \u001b[0;34m\u001b[0m\u001b[0m\n\u001b[1;32m    250\u001b[0m     \u001b[0mac\u001b[0m \u001b[0;34m=\u001b[0m \u001b[0mas_completed\u001b[0m\u001b[0;34m(\u001b[0m\u001b[0mfirst_futures\u001b[0m\u001b[0;34m)\u001b[0m\u001b[0;34m\u001b[0m\u001b[0;34m\u001b[0m\u001b[0m\n\u001b[0;32m--> 251\u001b[0;31m     \u001b[0;32mfor\u001b[0m \u001b[0mfuture\u001b[0m \u001b[0;32min\u001b[0m \u001b[0mac\u001b[0m\u001b[0;34m:\u001b[0m\u001b[0;34m\u001b[0m\u001b[0;34m\u001b[0m\u001b[0m\n\u001b[0m\u001b[1;32m    252\u001b[0m         \u001b[0;32mtry\u001b[0m\u001b[0;34m:\u001b[0m\u001b[0;34m\u001b[0m\u001b[0;34m\u001b[0m\u001b[0m\n\u001b[1;32m    253\u001b[0m             \u001b[0mresult\u001b[0m \u001b[0;34m=\u001b[0m \u001b[0mfuture\u001b[0m\u001b[0;34m.\u001b[0m\u001b[0mresult\u001b[0m\u001b[0;34m(\u001b[0m\u001b[0;34m)\u001b[0m\u001b[0;34m\u001b[0m\u001b[0;34m\u001b[0m\u001b[0m\n",
      "\u001b[0;32m/srv/conda/envs/notebook/lib/python3.8/site-packages/distributed/client.py\u001b[0m in \u001b[0;36m__next__\u001b[0;34m(self)\u001b[0m\n\u001b[1;32m   4449\u001b[0m                 \u001b[0;32mraise\u001b[0m \u001b[0mStopIteration\u001b[0m\u001b[0;34m(\u001b[0m\u001b[0;34m)\u001b[0m\u001b[0;34m\u001b[0m\u001b[0;34m\u001b[0m\u001b[0m\n\u001b[1;32m   4450\u001b[0m             \u001b[0;32mwith\u001b[0m \u001b[0mself\u001b[0m\u001b[0;34m.\u001b[0m\u001b[0mthread_condition\u001b[0m\u001b[0;34m:\u001b[0m\u001b[0;34m\u001b[0m\u001b[0;34m\u001b[0m\u001b[0m\n\u001b[0;32m-> 4451\u001b[0;31m                 \u001b[0mself\u001b[0m\u001b[0;34m.\u001b[0m\u001b[0mthread_condition\u001b[0m\u001b[0;34m.\u001b[0m\u001b[0mwait\u001b[0m\u001b[0;34m(\u001b[0m\u001b[0mtimeout\u001b[0m\u001b[0;34m=\u001b[0m\u001b[0;36m0.100\u001b[0m\u001b[0;34m)\u001b[0m\u001b[0;34m\u001b[0m\u001b[0;34m\u001b[0m\u001b[0m\n\u001b[0m\u001b[1;32m   4452\u001b[0m         \u001b[0;32mreturn\u001b[0m \u001b[0mself\u001b[0m\u001b[0;34m.\u001b[0m\u001b[0m_get_and_raise\u001b[0m\u001b[0;34m(\u001b[0m\u001b[0;34m)\u001b[0m\u001b[0;34m\u001b[0m\u001b[0;34m\u001b[0m\u001b[0m\n\u001b[1;32m   4453\u001b[0m \u001b[0;34m\u001b[0m\u001b[0m\n",
      "\u001b[0;32m/srv/conda/envs/notebook/lib/python3.8/threading.py\u001b[0m in \u001b[0;36mwait\u001b[0;34m(self, timeout)\u001b[0m\n\u001b[1;32m    304\u001b[0m             \u001b[0;32melse\u001b[0m\u001b[0;34m:\u001b[0m\u001b[0;34m\u001b[0m\u001b[0;34m\u001b[0m\u001b[0m\n\u001b[1;32m    305\u001b[0m                 \u001b[0;32mif\u001b[0m \u001b[0mtimeout\u001b[0m \u001b[0;34m>\u001b[0m \u001b[0;36m0\u001b[0m\u001b[0;34m:\u001b[0m\u001b[0;34m\u001b[0m\u001b[0;34m\u001b[0m\u001b[0m\n\u001b[0;32m--> 306\u001b[0;31m                     \u001b[0mgotit\u001b[0m \u001b[0;34m=\u001b[0m \u001b[0mwaiter\u001b[0m\u001b[0;34m.\u001b[0m\u001b[0macquire\u001b[0m\u001b[0;34m(\u001b[0m\u001b[0;32mTrue\u001b[0m\u001b[0;34m,\u001b[0m \u001b[0mtimeout\u001b[0m\u001b[0;34m)\u001b[0m\u001b[0;34m\u001b[0m\u001b[0;34m\u001b[0m\u001b[0m\n\u001b[0m\u001b[1;32m    307\u001b[0m                 \u001b[0;32melse\u001b[0m\u001b[0;34m:\u001b[0m\u001b[0;34m\u001b[0m\u001b[0;34m\u001b[0m\u001b[0m\n\u001b[1;32m    308\u001b[0m                     \u001b[0mgotit\u001b[0m \u001b[0;34m=\u001b[0m \u001b[0mwaiter\u001b[0m\u001b[0;34m.\u001b[0m\u001b[0macquire\u001b[0m\u001b[0;34m(\u001b[0m\u001b[0;32mFalse\u001b[0m\u001b[0;34m)\u001b[0m\u001b[0;34m\u001b[0m\u001b[0;34m\u001b[0m\u001b[0m\n",
      "\u001b[0;31mKeyboardInterrupt\u001b[0m: "
     ]
    }
   ],
   "source": [
    "for yr, ca in yr_catalogs:\n",
    "        logger.info(f\"Starting process for {yr}\")\n",
    "        ca.info()\n",
    "        storage_prefix = f\"{storage_container}/{yr}\"\n",
    "        process_catalog(\n",
    "            catalog=ca,\n",
    "            catalog_groupby=catalog_groupby,\n",
    "            job_fn=calculate_job_median,\n",
    "            job_groupby=job_groupby,\n",
    "            chunks=chunks,\n",
    "            account_name=account_name,\n",
    "            storage_container=storage_prefix,\n",
    "            account_key=account_key,\n",
    "            client=client,\n",
    "            concurrency=5,\n",
    "            logger=logger\n",
    "        )"
   ]
  },
  {
   "cell_type": "code",
   "execution_count": 20,
   "metadata": {},
   "outputs": [],
   "source": [
    "cluster.shutdown()"
   ]
  },
  {
   "cell_type": "code",
   "execution_count": null,
   "metadata": {},
   "outputs": [],
   "source": []
  }
 ],
 "metadata": {
  "kernelspec": {
   "display_name": "Python [conda env:notebook] *",
   "language": "python",
   "name": "conda-env-notebook-py"
  },
  "language_info": {
   "codemirror_mode": {
    "name": "ipython",
    "version": 3
   },
   "file_extension": ".py",
   "mimetype": "text/x-python",
   "name": "python",
   "nbconvert_exporter": "python",
   "pygments_lexer": "ipython3",
   "version": "3.8.6"
  }
 },
 "nbformat": 4,
 "nbformat_minor": 4
}
