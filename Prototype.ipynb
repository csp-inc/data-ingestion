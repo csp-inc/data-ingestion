{
 "cells": [
  {
   "cell_type": "code",
   "execution_count": 11,
   "id": "6577f0c3-8344-4548-9b8e-c8815d64837d",
   "metadata": {},
   "outputs": [],
   "source": [
    "import sys\n",
    "sys.path.insert(0, '/home/jovyan/data-ingestion/')\n",
    "from utils.create_logger import create_logger"
   ]
  },
  {
   "cell_type": "code",
   "execution_count": 12,
   "id": "cafac963-14e7-4997-bc0d-3e7b724b001d",
   "metadata": {},
   "outputs": [],
   "source": [
    "import dask\n",
    "from pystac_client import Client as pystacClient\n",
    "import json\n",
    "import planetary_computer as pc\n",
    "from utils.create_logger import create_logger\n",
    "from utils.dask import create_cluster\n",
    "# try catch search catalogue\n",
    "logger = create_logger(file='../logs/test.log', name='test_logger')\n",
    "# for summary upon completion\n",
    "metrics = dict(\n",
    "    search_errors=0,\n",
    "    search_completes=0,\n",
    ")\n",
    "\n",
    "catalog = pystacClient.open(\"https://planetarycomputer.microsoft.com/api/stac/v1\")\n",
    "\n",
    "@dask.delayed\n",
    "def search_catalogue(area_of_interest, \n",
    "                     time_of_interest, \n",
    "                     logger=logger, \n",
    "                     metrics=metrics, \n",
    "                     bad_sites=None): \n",
    "    # attempt to search catalogue with AOI and TOI\n",
    "    # log problematic AOI and TOI if exception occurs\n",
    "    # returns list of items\n",
    "    try:\n",
    "        search = catalog.search(\n",
    "                collections=[\"sentinel-2-l2a\"],\n",
    "                intersects=area_of_interest,\n",
    "                datetime=time_of_interest,\n",
    "                query={\"eo:cloud_cover\": {\"lt\": 100}},\n",
    "            )\n",
    "        items = [item for item in search.get_items()]\n",
    "        return items\n",
    "    except:\n",
    "        #network failure\n",
    "        print('cannot connect to collect catalog!')\n",
    "        return []\n",
    "    \n",
    "        \n",
    "def get_asset_href(item, asset='visual'):\n",
    "    asset_href = item.assets[asset].href\n",
    "    #no need to sign just yet...\n",
    "    #return pc.sign(asset_href)  \n",
    "    return asset_href  \n",
    "\n",
    "def collect_items(gdf):\n",
    "    items_list = []\n",
    "    for i,_ in gdf.iterrows():\n",
    "        area_of_interest = gdf['AOI'].iloc[i]\n",
    "        time_of_interest = gdf['DATERANGE'].iloc[i]\n",
    "        items_list.append({'uid':gdf['UID'].iloc[i],'catalog':search_catalogue(area_of_interest, time_of_interest)})\n",
    "    return items_list\n",
    "\n",
    "@dask.delayed\n",
    "def collect_hrefs(samples, *bands):\n",
    "    bands = [*bands]\n",
    "    #samples_hrefs = [] #don't store these\n",
    "    for sample_items in samples:\n",
    "        item_hrefs = []\n",
    "        uid = sample_items['uid']\n",
    "        if len(sample_items['catalog']) == 0:\n",
    "            print(f'{uid} is empty')\n",
    "            continue #go to the next sample\n",
    "        #next loop\n",
    "        for item in sample_items['catalog']:\n",
    "            links = {b:get_asset_href(item,b) for b in bands}\n",
    "            item_hrefs.append(pd.DataFrame(links, index=pd.Index([item.id],\\\n",
    "                                                                    name='scene_name')))\n",
    "        if len(item_hrefs) > 0:\n",
    "            hrefs = pd.concat(item_hrefs)\n",
    "            #samples_hrefs.append({'uid':uid, 'hrefs':hrefs}) no storage\n",
    "            hrefs.to_csv(f'az://sentinel/hrefs/{uid}.csv',\\\n",
    "                         storage_options=storage_options)\n",
    "    return 0\n",
    "\n"
   ]
  },
  {
   "cell_type": "code",
   "execution_count": 13,
   "id": "25501529-2ca2-42cb-a491-2c1e81193dbf",
   "metadata": {},
   "outputs": [],
   "source": [
    "import pandas as pd\n",
    "import os\n",
    "import ast\n",
    "# reads the credential file\n",
    "with open('../credentials') as credentials:\n",
    "    f = credentials.readlines() #gets the individual lines\n",
    "    \n",
    "# now assign those values to os.environ as accessible variables\n",
    "for var in f:\n",
    "    key, value = var.split(' = ') \n",
    "    #be sure the ' = 'has a space before and after in the credentials file\n",
    "    os.environ[key] = value.rstrip('\\n')\n",
    "\n",
    "# then we will store our keys into a variable called storage_options\n",
    "\n",
    "storage_options={'account_name':os.environ['ACCOUNT_NAME'],\\\n",
    "                 'account_key':os.environ['BLOB_STORAGE_KEY']}\n",
    "def get_data():\n",
    "    gdf = pd.read_csv('az://sentinel/fia/fia_fuzzed_gdf.csv', storage_options=storage_options)\n",
    "    area_of_interest = [ast.literal_eval(AOI) for AOI in gdf.AOI]\n",
    "    gdf.AOI = area_of_interest\n",
    "    return gdf"
   ]
  },
  {
   "cell_type": "code",
   "execution_count": 14,
   "id": "89e81ca7-4492-4894-a9ad-183cfbaa43c5",
   "metadata": {
    "tags": []
   },
   "outputs": [
    {
     "data": {
      "text/plain": [
       "'https://pccompute.westeurope.cloudapp.azure.com/compute/services/dask-gateway/clusters/prod.4cf01b76b5de4f41b08bddb75bd5717e/status'"
      ]
     },
     "execution_count": 14,
     "metadata": {},
     "output_type": "execute_result"
    }
   ],
   "source": [
    "# make logs directory first if it doesn't exist yet\n",
    "cluster = create_cluster(workers=1,worker_threads=4,\\\n",
    "                         worker_memory=32)\n",
    "client = cluster.get_client()\n",
    "cluster.dashboard_link"
   ]
  },
  {
   "cell_type": "code",
   "execution_count": 15,
   "id": "233a3c6d-aa44-493b-aca8-c7625b897b1a",
   "metadata": {},
   "outputs": [],
   "source": [
    "gdf = get_data()"
   ]
  },
  {
   "cell_type": "code",
   "execution_count": null,
   "id": "e1e711c5-86d2-4d41-bcd3-6961b5f77c42",
   "metadata": {},
   "outputs": [],
   "source": [
    "'''\n",
    "#alias the CN to UID\n",
    "import random\n",
    "import uuid\n",
    "import numpy as np\n",
    "uid = []\n",
    "cn = []\n",
    "for i in range(len(gdf)):\n",
    "    rnd = random.Random()\n",
    "    rnd.seed(gdf.iloc[i].CN)\n",
    "    u_uid = uuid.UUID(int=rnd.getrandbits(128), version=4)\n",
    "    uid.append(str(u_uid))\n",
    "    cn.append(gdf.iloc[i].CN)\n",
    "uid = np.array([uid]).T\n",
    "cn = np.array([cn]).T\n",
    "\n",
    "linked_df = pd.DataFrame(cn, columns = ['CN'])\n",
    "linked_df['UID'] = uid\n",
    "gdf = pd.merge(gdf, linked_df, on='CN')\n",
    "\n",
    "#gdf.to_csv('az://sentinel/fia/fia_fuzzed_gdf.csv', index=False, storage_options=storage_options)\n",
    "'''"
   ]
  },
  {
   "cell_type": "code",
   "execution_count": 19,
   "id": "0484ebaa-9d69-4dd3-9d66-2518e4d3e024",
   "metadata": {},
   "outputs": [
    {
     "data": {
      "text/plain": [
       "0"
      ]
     },
     "execution_count": 19,
     "metadata": {},
     "output_type": "execute_result"
    },
    {
     "name": "stderr",
     "output_type": "stream",
     "text": [
      "distributed.client - ERROR - Failed to reconnect to scheduler after 30.00 seconds, closing client\n",
      "_GatheringFuture exception was never retrieved\n",
      "future: <_GatheringFuture finished exception=CancelledError()>\n",
      "asyncio.exceptions.CancelledError\n"
     ]
    }
   ],
   "source": [
    "bands = ['AOT', 'B02', 'B03', 'B04', 'B08', 'visual', 'WVP']\n",
    "\n",
    "# test on a sample\n",
    "gdf_sample = gdf.head(3500)\n",
    "sample_items_list = collect_items(gdf_sample)\n",
    "collect_hrefs(sample_items_list, *bands).compute()\n",
    "#hrefs_out = dask.compute(*sample_hrefs)\n",
    "\n",
    "# record summary of search errors and completes\n",
    "#logger.info(f\"Metrics: {json.dumps(metrics)}\")"
   ]
  },
  {
   "cell_type": "code",
   "execution_count": 17,
   "id": "990b74b0-8988-48a7-9ce8-914538a15fb4",
   "metadata": {},
   "outputs": [
    {
     "data": {
      "text/html": [
       "<div>\n",
       "    <div style=\"width: 24px; height: 24px; background-color: #e1e1e1; border: 3px solid #9D9D9D; border-radius: 5px; position: absolute;\"> </div>\n",
       "    <div style=\"margin-left: 48px;\">\n",
       "        <h3 style=\"margin-bottom: 0px;\">Client</h3>\n",
       "        <p style=\"color: #9D9D9D; margin-bottom: 0px;\">Client-6840308e-0689-11ec-8ea6-720f4f4bf18f</p>\n",
       "        <table style=\"width: 100%; text-align: left;\">\n",
       "\n",
       "        <tr>\n",
       "        \n",
       "            <td style=\"text-align: left;\"><strong>Connection method:</strong> Cluster object</td>\n",
       "            <td style=\"text-align: left;\"><strong>Cluster type:</strong> GatewayCluster</td>\n",
       "        \n",
       "        </tr>\n",
       "\n",
       "        \n",
       "            <tr>\n",
       "                <td style=\"text-align: left;\">\n",
       "                    <strong>Dashboard: </strong> <a href=\"https://pccompute.westeurope.cloudapp.azure.com/compute/services/dask-gateway/clusters/prod.4cf01b76b5de4f41b08bddb75bd5717e/status\">https://pccompute.westeurope.cloudapp.azure.com/compute/services/dask-gateway/clusters/prod.4cf01b76b5de4f41b08bddb75bd5717e/status</a>\n",
       "                </td>\n",
       "                <td style=\"text-align: left;\"></td>\n",
       "            </tr>\n",
       "        \n",
       "\n",
       "        </table>\n",
       "\n",
       "        \n",
       "            <details>\n",
       "            <summary style=\"margin-bottom: 20px;\"><h3 style=\"display: inline;\">Cluster Info</h3></summary>\n",
       "            <div style='background-color: #f2f2f2; display: inline-block; padding: 10px; border: 1px solid #999999;'>\n",
       "  <h3>GatewayCluster</h3>\n",
       "  <ul>\n",
       "    <li><b>Name: </b>prod.4cf01b76b5de4f41b08bddb75bd5717e\n",
       "    <li><b>Dashboard: </b><a href='https://pccompute.westeurope.cloudapp.azure.com/compute/services/dask-gateway/clusters/prod.4cf01b76b5de4f41b08bddb75bd5717e/status' target='_blank'>https://pccompute.westeurope.cloudapp.azure.com/compute/services/dask-gateway/clusters/prod.4cf01b76b5de4f41b08bddb75bd5717e/status</a>\n",
       "  </ul>\n",
       "</div>\n",
       "\n",
       "            </details>\n",
       "        \n",
       "\n",
       "    </div>\n",
       "</div>"
      ],
      "text/plain": [
       "<Client: 'tls://10.244.123.13:8786' processes=0 threads=0, memory=0 B>"
      ]
     },
     "execution_count": 17,
     "metadata": {},
     "output_type": "execute_result"
    }
   ],
   "source": [
    "client.restart()"
   ]
  },
  {
   "cell_type": "code",
   "execution_count": 18,
   "id": "2a89d5df-6143-4ea0-b5ef-75939d9fc6e0",
   "metadata": {},
   "outputs": [
    {
     "data": {
      "text/plain": [
       "3017"
      ]
     },
     "execution_count": 18,
     "metadata": {},
     "output_type": "execute_result"
    }
   ],
   "source": [
    "import fsspec\n",
    "fs = fsspec.filesystem('az',\\\n",
    "                       account_name=storage_options['account_name'],\\\n",
    "                       account_key=storage_options['account_key'])\n",
    "len(fs.ls('sentinel/hrefs'))"
   ]
  },
  {
   "cell_type": "code",
   "execution_count": null,
   "id": "648398e7-6d3e-4c7f-9f66-cfb7891f0a28",
   "metadata": {},
   "outputs": [],
   "source": [
    "client.shutdown()"
   ]
  }
 ],
 "metadata": {
  "kernelspec": {
   "display_name": "Python 3 (ipykernel)",
   "language": "python",
   "name": "python3"
  },
  "language_info": {
   "codemirror_mode": {
    "name": "ipython",
    "version": 3
   },
   "file_extension": ".py",
   "mimetype": "text/x-python",
   "name": "python",
   "nbconvert_exporter": "python",
   "pygments_lexer": "ipython3",
   "version": "3.8.10"
  }
 },
 "nbformat": 4,
 "nbformat_minor": 5
}
