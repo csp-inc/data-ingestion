{
 "cells": [
  {
   "cell_type": "code",
   "execution_count": 1,
   "id": "6577f0c3-8344-4548-9b8e-c8815d64837d",
   "metadata": {},
   "outputs": [],
   "source": [
    "import sys\n",
    "sys.path.insert(0, '/home/jovyan/data-ingestion/')\n",
    "from utils.create_logger import create_logger"
   ]
  },
  {
   "cell_type": "code",
   "execution_count": 2,
   "id": "cafac963-14e7-4997-bc0d-3e7b724b001d",
   "metadata": {},
   "outputs": [],
   "source": [
    "import dask\n",
    "from pystac_client import Client as pystacClient\n",
    "import json\n",
    "import planetary_computer as pc\n",
    "from utils.create_logger import create_logger\n",
    "from utils.dask import create_cluster\n",
    "# try catch search catalogue\n",
    "logger = create_logger(file='../logs/test.log', name='test_logger')\n",
    "# for summary upon completion\n",
    "metrics = dict(\n",
    "    search_errors=0,\n",
    "    search_completes=0,\n",
    ")\n",
    "\n",
    "'''\n",
    "#@dask.delayed\n",
    "def search_catalogue(area_of_interest, \n",
    "                     time_of_interest, \n",
    "                     logger=logger, \n",
    "                     metrics=metrics, \n",
    "                     bad_sites=None):\n",
    "    catalog = pystacClient.open(\"https://planetarycomputer.microsoft.com/api/stac/v1\")\n",
    "    \n",
    "    # attempt to search catalogue with AOI and TOI\n",
    "    # log problematic AOI and TOI if exception occurs\n",
    "    try:\n",
    "        search = catalog.search(\n",
    "            collections=[\"sentinel-2-l2a\"],\n",
    "            intersects=area_of_interest,\n",
    "            datetime=time_of_interest,\n",
    "            query={\"eo:cloud_cover\": {\"lt\": 100}},\n",
    "        )\n",
    "        items = [item for items in search.get_items()]\n",
    "        metrics['search_completes'] += 1\n",
    "        return items\n",
    "    except:\n",
    "        metrics['search_errors'] += 1\n",
    "        logger.warning(f'Failed to get catalogue item(s) for AOI:{area_of_interest}, TOI:{time_of_interest}')\n",
    "'''        \n",
    "\n",
    "catalog = pystacClient.open(\"https://planetarycomputer.microsoft.com/api/stac/v1\")\n",
    "\n",
    "@dask.delayed\n",
    "def search_catalogue(area_of_interest, \n",
    "                     time_of_interest, \n",
    "                     logger=logger, \n",
    "                     metrics=metrics, \n",
    "                     bad_sites=None): \n",
    "    # attempt to search catalogue with AOI and TOI\n",
    "    # log problematic AOI and TOI if exception occurs\n",
    "    search = catalog.search(\n",
    "            collections=[\"sentinel-2-l2a\"],\n",
    "            intersects=area_of_interest,\n",
    "            datetime=time_of_interest,\n",
    "            query={\"eo:cloud_cover\": {\"lt\": 100}},\n",
    "        )\n",
    "    items = [item for item in search.get_items()]\n",
    "    return items\n",
    "        \n",
    "def get_asset_href(item, asset='visual'):\n",
    "    asset_href = item.assets[asset].href\n",
    "    return pc.sign(asset_href)  \n",
    "\n",
    "def collect_items(gdf):\n",
    "    items = []\n",
    "    for i,_ in gdf.iterrows():\n",
    "        area_of_interest = gdf['AOI'].iloc[i]\n",
    "        time_of_interest = gdf['DATERANGE'].iloc[i]\n",
    "        items.append(search_catalogue(area_of_interest, time_of_interest))\n",
    "    return items\n",
    "\n",
    "@dask.delayed\n",
    "def collect_hrefs(items, *bands):\n",
    "    bands = [*bands]\n",
    "    hrefs = []\n",
    "    for _,itemlist in enumerate(items):\n",
    "        for b in bands:\n",
    "            hrefs.append([(b, get_asset_href(item, b)) for _,item in enumerate(itemlist)])\n",
    "    return hrefs\n",
    "\n"
   ]
  },
  {
   "cell_type": "code",
   "execution_count": 3,
   "id": "25501529-2ca2-42cb-a491-2c1e81193dbf",
   "metadata": {},
   "outputs": [],
   "source": [
    "import pandas as pd\n",
    "import os\n",
    "import ast\n",
    "# reads the credential file\n",
    "with open('../credentials') as credentials:\n",
    "    f = credentials.readlines() #gets the individual lines\n",
    "    \n",
    "# now assign those values to os.environ as accessible variables\n",
    "for var in f:\n",
    "    key, value = var.split(' = ') \n",
    "    #be sure the ' = 'has a space before and after in the credentials file\n",
    "    os.environ[key] = value.rstrip('\\n')\n",
    "\n",
    "# then we will store our keys into a variable called storage_options\n",
    "\n",
    "storage_options={'account_name':os.environ['ACCOUNT_NAME'],\\\n",
    "                 'account_key':os.environ['BLOB_STORAGE_KEY']}\n",
    "def get_data():\n",
    "    gdf = pd.read_csv('az://sentinel/fia/fia_fuzzed_gdf.csv', storage_options=storage_options)\n",
    "    area_of_interest = [ast.literal_eval(AOI) for AOI in gdf.AOI]\n",
    "    gdf.AOI = area_of_interest\n",
    "    return gdf"
   ]
  },
  {
   "cell_type": "code",
   "execution_count": 4,
   "id": "89e81ca7-4492-4894-a9ad-183cfbaa43c5",
   "metadata": {},
   "outputs": [],
   "source": [
    "# make logs directory first if it doesn't exist yet\n",
    "cluster = create_cluster(workers=4,worker_threads=1,\\\n",
    "                         worker_memory=6)\n",
    "client = cluster.get_client()\n",
    "gdf = get_data()"
   ]
  },
  {
   "cell_type": "code",
   "execution_count": 5,
   "id": "9de246d8-aeb6-4465-bf5f-4ecc1026c38e",
   "metadata": {},
   "outputs": [
    {
     "data": {
      "text/plain": [
       "'https://pccompute.westeurope.cloudapp.azure.com/compute/services/dask-gateway/clusters/prod.541553d89c7e4fc9b1ced0755c4d86e7/status'"
      ]
     },
     "execution_count": 5,
     "metadata": {},
     "output_type": "execute_result"
    }
   ],
   "source": [
    "cluster.dashboard_link"
   ]
  },
  {
   "cell_type": "code",
   "execution_count": 6,
   "id": "0484ebaa-9d69-4dd3-9d66-2518e4d3e024",
   "metadata": {},
   "outputs": [],
   "source": [
    "bands = ['AOT', 'B02', 'B03', 'B04', 'B08', 'visual', 'WVP']\n",
    "\n",
    "# test on a sample\n",
    "gdf_sample = gdf.head(8).reset_index()\n",
    "sample_items = collect_items(gdf_sample)\n",
    "sample_hrefs = collect_hrefs(sample_items, *bands)\n",
    "#hrefs_out = dask.compute(*sample_hrefs)\n",
    "\n",
    "# record summary of search errors and completes\n",
    "#logger.info(f\"Metrics: {json.dumps(metrics)}\")"
   ]
  },
  {
   "cell_type": "code",
   "execution_count": null,
   "id": "0f3f6d29-7299-4cb4-8e72-3e9bc63cec5c",
   "metadata": {},
   "outputs": [],
   "source": [
    "test = sample_hrefs.compute()"
   ]
  },
  {
   "cell_type": "code",
   "execution_count": null,
   "id": "648398e7-6d3e-4c7f-9f66-cfb7891f0a28",
   "metadata": {},
   "outputs": [],
   "source": [
    "client.shutdown()"
   ]
  },
  {
   "cell_type": "code",
   "execution_count": null,
   "id": "c034354b-30a6-416f-b1a1-1e61788fa1c5",
   "metadata": {},
   "outputs": [],
   "source": []
  },
  {
   "cell_type": "code",
   "execution_count": null,
   "id": "6f494a7c-b782-40bc-b56a-448825f6ce0e",
   "metadata": {},
   "outputs": [],
   "source": []
  }
 ],
 "metadata": {
  "kernelspec": {
   "display_name": "Python 3 (ipykernel)",
   "language": "python",
   "name": "python3"
  },
  "language_info": {
   "codemirror_mode": {
    "name": "ipython",
    "version": 3
   },
   "file_extension": ".py",
   "mimetype": "text/x-python",
   "name": "python",
   "nbconvert_exporter": "python",
   "pygments_lexer": "ipython3",
   "version": "3.8.10"
  }
 },
 "nbformat": 4,
 "nbformat_minor": 5
}
