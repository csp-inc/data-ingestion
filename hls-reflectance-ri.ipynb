{
 "cells": [
  {
   "cell_type": "code",
   "execution_count": 1,
   "metadata": {},
   "outputs": [],
   "source": [
    "import os\n",
    "import time\n",
    "\n",
    "# pip/conda installed\n",
    "import dask.array as da\n",
    "import fsspec\n",
    "import pandas as pd\n",
    "import xarray as xr\n",
    "from dask.distributed import as_completed\n",
    "from dask.distributed import Client\n",
    "from dask_gateway import GatewayCluster\n",
    "\n",
    "from utils import get_logger\n",
    "from utils.dask import create_cluster\n",
    "from utils.dask import upload_source\n",
    "from utils.hls.catalog import HLSBand\n",
    "from utils.hls.catalog import HLSCatalog\n",
    "from utils.hls.catalog import scene_to_urls\n",
    "from utils.hls.compute import process_catalog\n",
    "from utils.hls.compute import calculate_job_median"
   ]
  },
  {
   "cell_type": "code",
   "execution_count": 2,
   "metadata": {},
   "outputs": [],
   "source": [
    "logger = get_logger('hls-ri')"
   ]
  },
  {
   "cell_type": "code",
   "execution_count": 3,
   "metadata": {},
   "outputs": [],
   "source": [
    "# fill with your account key\n",
    "os.environ['AZURE_ACCOUNT_KEY'] = \"\""
   ]
  },
  {
   "cell_type": "code",
   "execution_count": 4,
   "metadata": {},
   "outputs": [],
   "source": [
    "# read the entire data once (each tile is 3660x3660)...\n",
    "chunks = {'band': 1, 'x': 3660, 'y': 3660}"
   ]
  },
  {
   "cell_type": "code",
   "execution_count": 5,
   "metadata": {},
   "outputs": [],
   "source": [
    "df = pd.read_csv('az://fia/fia_no_pltcn.csv', storage_options={'account_name': \"usfs\", 'account_key': os.environ['AZURE_ACCOUNT_KEY']})"
   ]
  },
  {
   "cell_type": "code",
   "execution_count": 6,
   "metadata": {},
   "outputs": [],
   "source": [
    "ri_df = df[df['STATECD']==44].rename(columns = {'LAT':'lat', 'LON':'lon', 'INVYR':'year'})"
   ]
  },
  {
   "cell_type": "code",
   "execution_count": 8,
   "metadata": {},
   "outputs": [
    {
     "name": "stdout",
     "output_type": "stream",
     "text": [
      "Reading tile extents...\n",
      "Read tile extents for 56686 tiles\n"
     ]
    }
   ],
   "source": [
    "my_bands = [HLSBand(x) for x in [2, 3, 4, 5, 6, 7, 11]]\n",
    "ri_catalog = HLSCatalog.from_point_pandas(ri_df, bands=my_bands)"
   ]
  },
  {
   "cell_type": "code",
   "execution_count": 9,
   "metadata": {},
   "outputs": [
    {
     "data": {
      "application/vnd.jupyter.widget-view+json": {
       "model_id": "5a483108a495465c86a8f9d512077add",
       "version_major": 2,
       "version_minor": 0
      },
      "text/plain": [
       "VBox(children=(HTML(value='<h2>GatewayCluster</h2>'), HBox(children=(HTML(value='\\n<div>\\n<style scoped>\\n    …"
      ]
     },
     "metadata": {},
     "output_type": "display_data"
    }
   ],
   "source": [
    "num_workers = 8\n",
    "cluster = create_cluster(\n",
    "    workers=num_workers,\n",
    "    worker_threads=1,\n",
    "    worker_memory=4,\n",
    "    scheduler_threads=1,\n",
    "    scheduler_memory=8\n",
    ")\n",
    "client = cluster.get_client()\n",
    "cluster"
   ]
  },
  {
   "cell_type": "code",
   "execution_count": 10,
   "metadata": {},
   "outputs": [
    {
     "name": "stdout",
     "output_type": "stream",
     "text": [
      "2021-01-14 01:37:45,881 [INFO] hls-ri - Waiting for cluster workers to start\n",
      "2021-01-14 01:37:45,885 [INFO] hls-ri - Uploading code to workers\n"
     ]
    }
   ],
   "source": [
    "# All workers must be started when source code is uploaded to them.\n",
    "logger.info(\"Waiting for cluster workers to start\")\n",
    "client.wait_for_workers(num_workers)\n",
    "logger.info(\"Uploading code to workers\")\n",
    "upload_source('./utils', client)"
   ]
  },
  {
   "cell_type": "code",
   "execution_count": 11,
   "metadata": {},
   "outputs": [],
   "source": [
    "account_name=\"usfs\"\n",
    "storage_container=\"fia/hls-testing/ri_best\"\n",
    "account_key=os.environ[\"AZURE_ACCOUNT_KEY\"]\n",
    "catalog_groupby = \"tile\"\n",
    "job_groupby = \"time.month\""
   ]
  },
  {
   "cell_type": "code",
   "execution_count": 12,
   "metadata": {},
   "outputs": [],
   "source": [
    "# Filter to scenes from 1998 and later, then group by year\n",
    "yr_catalogs = ri_catalog.xr_ds.where(ri_catalog.xr_ds['year'] >= 1998, drop=True).groupby('year')"
   ]
  },
  {
   "cell_type": "code",
   "execution_count": 13,
   "metadata": {},
   "outputs": [
    {
     "name": "stdout",
     "output_type": "stream",
     "text": [
      "2021-01-14 01:37:53,771 [INFO] hls-ri - Starting process for 2013.0\n",
      "xarray.Dataset {\n",
      "dimensions:\n",
      "\tindex = 1456 ;\n",
      "\n",
      "variables:\n",
      "\tfloat64 INDEX(index) ;\n",
      "\tfloat64 year(index) ;\n",
      "\tfloat64 STATECD(index) ;\n",
      "\tfloat64 lat(index) ;\n",
      "\tfloat64 lon(index) ;\n",
      "\tobject tile(index) ;\n",
      "\tobject scene(index) ;\n",
      "\tobject sensor(index) ;\n",
      "\tdatetime64[ns] dt(index) ;\n",
      "\tint64 index(index) ;\n",
      "\n",
      "// global attributes:\n",
      "\t:bands = [<HLSBand.BLUE: 2>, <HLSBand.GREEN: 3>, <HLSBand.RED: 4>, <HLSBand.NIR_NARROW: 5>, <HLSBand.SWIR1: 6>, <HLSBand.SWIR2: 7>, <HLSBand.QA: 11>] ;\n",
      "}2021-01-14 01:37:53,776 [INFO] hls-ri - Submitting job 18TYL\n",
      "2021-01-14 01:37:53,888 [INFO] hls-ri - Submitting job 18TYM\n",
      "2021-01-14 01:37:54,034 [INFO] hls-ri - Submitting job 19TBG\n",
      "2021-01-14 01:37:56,159 [INFO] hls-ri - Submitting job 19TCG\n",
      "2021-01-14 01:53:16,368 [INFO] hls-ri - Completed job 18TYL\n",
      "2021-01-14 01:59:25,136 [INFO] hls-ri - Completed job 18TYM\n",
      "2021-01-14 02:00:17,439 [INFO] hls-ri - Completed job 19TCG\n",
      "2021-01-14 02:09:19,612 [ERROR] hls-ri - Exception from dask cluster\n",
      "Traceback (most recent call last):\n",
      "  File \"/home/jovyan/data-ingestion/utils/hls/compute.py\", line 253, in process_catalog\n",
      "    result = future.result()\n",
      "  File \"/srv/conda/envs/notebook/lib/python3.8/site-packages/distributed/client.py\", line 224, in result\n",
      "    raise exc.with_traceback(tb)\n",
      "  File \"/home/jovyan/dask-worker-space/dask-worker-space/worker-3xp67g4l/source.zip/utils/hls/compute.py\", line 132, in save_to_zarr\n",
      "  File \"/srv/conda/envs/notebook/lib/python3.8/site-packages/xarray/core/dataset.py\", line 1745, in to_zarr\n",
      "    return to_zarr(\n",
      "  File \"/srv/conda/envs/notebook/lib/python3.8/site-packages/xarray/backends/api.py\", line 1482, in to_zarr\n",
      "    writes = writer.sync(compute=compute)\n",
      "  File \"/srv/conda/envs/notebook/lib/python3.8/site-packages/xarray/backends/common.py\", line 155, in sync\n",
      "    delayed_store = da.store(\n",
      "  File \"/srv/conda/envs/notebook/lib/python3.8/site-packages/dask/array/core.py\", line 1021, in store\n",
      "    result.compute(**kwargs)\n",
      "  File \"/srv/conda/envs/notebook/lib/python3.8/site-packages/dask/base.py\", line 279, in compute\n",
      "    (result,) = compute(self, traverse=False, **kwargs)\n",
      "  File \"/srv/conda/envs/notebook/lib/python3.8/site-packages/dask/base.py\", line 567, in compute\n",
      "    results = schedule(dsk, keys, **kwargs)\n",
      "  File \"/srv/conda/envs/notebook/lib/python3.8/site-packages/distributed/client.py\", line 2676, in get\n",
      "    results = self.gather(packed, asynchronous=asynchronous, direct=direct)\n",
      "  File \"/srv/conda/envs/notebook/lib/python3.8/site-packages/distributed/client.py\", line 1985, in gather\n",
      "    return self.sync(\n",
      "  File \"/srv/conda/envs/notebook/lib/python3.8/site-packages/distributed/client.py\", line 831, in sync\n",
      "    return sync(\n",
      "  File \"/srv/conda/envs/notebook/lib/python3.8/site-packages/distributed/utils.py\", line 340, in sync\n",
      "    raise exc.with_traceback(tb)\n",
      "  File \"/srv/conda/envs/notebook/lib/python3.8/site-packages/distributed/utils.py\", line 324, in f\n",
      "    result[0] = yield future\n",
      "  File \"/srv/conda/envs/notebook/lib/python3.8/site-packages/tornado/gen.py\", line 762, in run\n",
      "    value = future.result()\n",
      "  File \"/srv/conda/envs/notebook/lib/python3.8/site-packages/distributed/client.py\", line 1850, in _gather\n",
      "    raise exception.with_traceback(traceback)\n",
      "  File \"/srv/conda/envs/notebook/lib/python3.8/site-packages/dask/array/core.py\", line 105, in getter\n",
      "    c = np.asarray(c)\n",
      "  File \"/srv/conda/envs/notebook/lib/python3.8/site-packages/numpy/core/_asarray.py\", line 83, in asarray\n",
      "    return array(a, dtype, copy=False, order=order)\n",
      "  File \"/srv/conda/envs/notebook/lib/python3.8/site-packages/xarray/core/indexing.py\", line 503, in __array__\n",
      "    return np.asarray(self.array, dtype=dtype)\n",
      "  File \"/srv/conda/envs/notebook/lib/python3.8/site-packages/numpy/core/_asarray.py\", line 83, in asarray\n",
      "    return array(a, dtype, copy=False, order=order)\n",
      "  File \"/srv/conda/envs/notebook/lib/python3.8/site-packages/xarray/core/indexing.py\", line 663, in __array__\n",
      "    return np.asarray(self.array, dtype=dtype)\n",
      "  File \"/srv/conda/envs/notebook/lib/python3.8/site-packages/numpy/core/_asarray.py\", line 83, in asarray\n",
      "    return array(a, dtype, copy=False, order=order)\n",
      "  File \"/srv/conda/envs/notebook/lib/python3.8/site-packages/xarray/core/indexing.py\", line 568, in __array__\n",
      "    return np.asarray(array[self.key], dtype=None)\n",
      "  File \"/srv/conda/envs/notebook/lib/python3.8/site-packages/xarray/backends/rasterio_.py\", line 130, in __getitem__\n",
      "    return indexing.explicit_indexing_adapter(\n",
      "  File \"/srv/conda/envs/notebook/lib/python3.8/site-packages/xarray/core/indexing.py\", line 853, in explicit_indexing_adapter\n",
      "    result = raw_indexing_method(raw_key.tuple)\n",
      "  File \"/srv/conda/envs/notebook/lib/python3.8/site-packages/xarray/backends/rasterio_.py\", line 123, in _getitem\n",
      "    out = riods.read(band_key, window=window)\n",
      "  File \"rasterio/_io.pyx\", line 361, in rasterio._io.DatasetReaderBase.read\n",
      "  File \"rasterio/_io.pyx\", line 700, in rasterio._io.DatasetReaderBase._read\n",
      "rasterio.errors.RasterioIOError: Read or write failed. /vsicurl/https://hlssa.blob.core.windows.net/hls/L30/HLS.L30.T19TBG.2013161.v1.4_07.tif, band 1: IReadBlock failed at X offset 3, Y offset 0: TIFFReadEncodedTile() failed.\n",
      "2021-01-14 02:09:19,615 [INFO] hls-ri - 4 completed in 1885.8414255039997 seconds\n",
      "2021-01-14 02:09:19,619 [INFO] hls-ri - Starting process for 2014.0\n",
      "xarray.Dataset {\n",
      "dimensions:\n",
      "\tindex = 1835 ;\n",
      "\n",
      "variables:\n",
      "\tfloat64 INDEX(index) ;\n",
      "\tfloat64 year(index) ;\n",
      "\tfloat64 STATECD(index) ;\n",
      "\tfloat64 lat(index) ;\n",
      "\tfloat64 lon(index) ;\n",
      "\tobject tile(index) ;\n",
      "\tobject scene(index) ;\n",
      "\tobject sensor(index) ;\n",
      "\tdatetime64[ns] dt(index) ;\n",
      "\tint64 index(index) ;\n",
      "\n",
      "// global attributes:\n",
      "\t:bands = [<HLSBand.BLUE: 2>, <HLSBand.GREEN: 3>, <HLSBand.RED: 4>, <HLSBand.NIR_NARROW: 5>, <HLSBand.SWIR1: 6>, <HLSBand.SWIR2: 7>, <HLSBand.QA: 11>] ;\n",
      "}2021-01-14 02:09:19,622 [INFO] hls-ri - Submitting job 18TYL\n",
      "2021-01-14 02:09:19,919 [INFO] hls-ri - Submitting job 18TYM\n",
      "2021-01-14 02:09:20,106 [INFO] hls-ri - Submitting job 19TBG\n",
      "2021-01-14 02:09:21,754 [INFO] hls-ri - Submitting job 19TCG\n",
      "2021-01-14 02:41:32,436 [INFO] hls-ri - Completed job 18TYM\n",
      "2021-01-14 02:48:48,969 [ERROR] hls-ri - Exception from dask cluster\n",
      "Traceback (most recent call last):\n",
      "  File \"/home/jovyan/data-ingestion/utils/hls/compute.py\", line 253, in process_catalog\n",
      "    result = future.result()\n",
      "  File \"/srv/conda/envs/notebook/lib/python3.8/site-packages/distributed/client.py\", line 224, in result\n",
      "    raise exc.with_traceback(tb)\n",
      "distributed.scheduler.KilledWorker: ('fetch_band_url-b1c0a5265815ec64f5c61eec69708d1f', <Worker 'tls://10.244.33.31:46207', name: dask-worker-cbb4fa6ae95a490db0cdf39212f528a3-zdmzg, memory: 0, processing: 317>)\n",
      "2021-01-14 02:52:25,276 [ERROR] hls-ri - Exception from dask cluster\n",
      "Traceback (most recent call last):\n",
      "  File \"/home/jovyan/data-ingestion/utils/hls/compute.py\", line 253, in process_catalog\n",
      "    result = future.result()\n",
      "  File \"/srv/conda/envs/notebook/lib/python3.8/site-packages/distributed/client.py\", line 224, in result\n",
      "    raise exc.with_traceback(tb)\n",
      "  File \"/home/jovyan/dask-worker-space/dask-worker-space/worker-etu4vtxb/source.zip/utils/hls/compute.py\", line 132, in save_to_zarr\n",
      "  File \"/srv/conda/envs/notebook/lib/python3.8/site-packages/xarray/core/dataset.py\", line 1745, in to_zarr\n",
      "    return to_zarr(\n",
      "  File \"/srv/conda/envs/notebook/lib/python3.8/site-packages/xarray/backends/api.py\", line 1482, in to_zarr\n",
      "    writes = writer.sync(compute=compute)\n",
      "  File \"/srv/conda/envs/notebook/lib/python3.8/site-packages/xarray/backends/common.py\", line 155, in sync\n",
      "    delayed_store = da.store(\n",
      "  File \"/srv/conda/envs/notebook/lib/python3.8/site-packages/dask/array/core.py\", line 1021, in store\n",
      "    result.compute(**kwargs)\n",
      "  File \"/srv/conda/envs/notebook/lib/python3.8/site-packages/dask/base.py\", line 279, in compute\n",
      "    (result,) = compute(self, traverse=False, **kwargs)\n",
      "  File \"/srv/conda/envs/notebook/lib/python3.8/site-packages/dask/base.py\", line 567, in compute\n",
      "    results = schedule(dsk, keys, **kwargs)\n",
      "  File \"/srv/conda/envs/notebook/lib/python3.8/site-packages/distributed/client.py\", line 2676, in get\n",
      "    results = self.gather(packed, asynchronous=asynchronous, direct=direct)\n",
      "  File \"/srv/conda/envs/notebook/lib/python3.8/site-packages/distributed/client.py\", line 1985, in gather\n",
      "    return self.sync(\n",
      "  File \"/srv/conda/envs/notebook/lib/python3.8/site-packages/distributed/client.py\", line 831, in sync\n",
      "    return sync(\n",
      "  File \"/srv/conda/envs/notebook/lib/python3.8/site-packages/distributed/utils.py\", line 340, in sync\n",
      "    raise exc.with_traceback(tb)\n",
      "  File \"/srv/conda/envs/notebook/lib/python3.8/site-packages/distributed/utils.py\", line 324, in f\n",
      "    result[0] = yield future\n",
      "  File \"/srv/conda/envs/notebook/lib/python3.8/site-packages/tornado/gen.py\", line 762, in run\n",
      "    value = future.result()\n",
      "  File \"/srv/conda/envs/notebook/lib/python3.8/site-packages/distributed/client.py\", line 1850, in _gather\n",
      "    raise exception.with_traceback(traceback)\n",
      "distributed.scheduler.KilledWorker: ('open_rasterio-40babdc1927ff2b5ce74408033eb1e91<this-array>-170e34b7183375e02e0e7c5557f3f2d9', <Worker 'tls://10.244.33.30:39493', name: dask-worker-cbb4fa6ae95a490db0cdf39212f528a3-dtnm9, memory: 0, processing: 310>)\n"
     ]
    },
    {
     "ename": "KeyboardInterrupt",
     "evalue": "",
     "output_type": "error",
     "traceback": [
      "\u001b[0;31m---------------------------------------------------------------------------\u001b[0m",
      "\u001b[0;31mKeyboardInterrupt\u001b[0m                         Traceback (most recent call last)",
      "\u001b[0;32m<ipython-input-13-c1eb2bb1b7bd>\u001b[0m in \u001b[0;36m<module>\u001b[0;34m\u001b[0m\n\u001b[1;32m      3\u001b[0m         \u001b[0mca\u001b[0m\u001b[0;34m.\u001b[0m\u001b[0minfo\u001b[0m\u001b[0;34m(\u001b[0m\u001b[0;34m)\u001b[0m\u001b[0;34m\u001b[0m\u001b[0;34m\u001b[0m\u001b[0m\n\u001b[1;32m      4\u001b[0m         \u001b[0mstorage_prefix\u001b[0m \u001b[0;34m=\u001b[0m \u001b[0;34mf\"{storage_container}/{yr}\"\u001b[0m\u001b[0;34m\u001b[0m\u001b[0;34m\u001b[0m\u001b[0m\n\u001b[0;32m----> 5\u001b[0;31m         process_catalog(\n\u001b[0m\u001b[1;32m      6\u001b[0m             \u001b[0mcatalog\u001b[0m\u001b[0;34m=\u001b[0m\u001b[0mca\u001b[0m\u001b[0;34m,\u001b[0m\u001b[0;34m\u001b[0m\u001b[0;34m\u001b[0m\u001b[0m\n\u001b[1;32m      7\u001b[0m             \u001b[0mcatalog_groupby\u001b[0m\u001b[0;34m=\u001b[0m\u001b[0mcatalog_groupby\u001b[0m\u001b[0;34m,\u001b[0m\u001b[0;34m\u001b[0m\u001b[0;34m\u001b[0m\u001b[0m\n",
      "\u001b[0;32m~/data-ingestion/utils/hls/compute.py\u001b[0m in \u001b[0;36mprocess_catalog\u001b[0;34m(catalog, catalog_groupby, job_fn, job_groupby, chunks, account_name, storage_container, account_key, client, concurrency, logger)\u001b[0m\n\u001b[1;32m    249\u001b[0m \u001b[0;34m\u001b[0m\u001b[0m\n\u001b[1;32m    250\u001b[0m     \u001b[0mac\u001b[0m \u001b[0;34m=\u001b[0m \u001b[0mas_completed\u001b[0m\u001b[0;34m(\u001b[0m\u001b[0mfirst_futures\u001b[0m\u001b[0;34m)\u001b[0m\u001b[0;34m\u001b[0m\u001b[0;34m\u001b[0m\u001b[0m\n\u001b[0;32m--> 251\u001b[0;31m     \u001b[0;32mfor\u001b[0m \u001b[0mfuture\u001b[0m \u001b[0;32min\u001b[0m \u001b[0mac\u001b[0m\u001b[0;34m:\u001b[0m\u001b[0;34m\u001b[0m\u001b[0;34m\u001b[0m\u001b[0m\n\u001b[0m\u001b[1;32m    252\u001b[0m         \u001b[0;32mtry\u001b[0m\u001b[0;34m:\u001b[0m\u001b[0;34m\u001b[0m\u001b[0;34m\u001b[0m\u001b[0m\n\u001b[1;32m    253\u001b[0m             \u001b[0mresult\u001b[0m \u001b[0;34m=\u001b[0m \u001b[0mfuture\u001b[0m\u001b[0;34m.\u001b[0m\u001b[0mresult\u001b[0m\u001b[0;34m(\u001b[0m\u001b[0;34m)\u001b[0m\u001b[0;34m\u001b[0m\u001b[0;34m\u001b[0m\u001b[0m\n",
      "\u001b[0;32m/srv/conda/envs/notebook/lib/python3.8/site-packages/distributed/client.py\u001b[0m in \u001b[0;36m__next__\u001b[0;34m(self)\u001b[0m\n\u001b[1;32m   4449\u001b[0m                 \u001b[0;32mraise\u001b[0m \u001b[0mStopIteration\u001b[0m\u001b[0;34m(\u001b[0m\u001b[0;34m)\u001b[0m\u001b[0;34m\u001b[0m\u001b[0;34m\u001b[0m\u001b[0m\n\u001b[1;32m   4450\u001b[0m             \u001b[0;32mwith\u001b[0m \u001b[0mself\u001b[0m\u001b[0;34m.\u001b[0m\u001b[0mthread_condition\u001b[0m\u001b[0;34m:\u001b[0m\u001b[0;34m\u001b[0m\u001b[0;34m\u001b[0m\u001b[0m\n\u001b[0;32m-> 4451\u001b[0;31m                 \u001b[0mself\u001b[0m\u001b[0;34m.\u001b[0m\u001b[0mthread_condition\u001b[0m\u001b[0;34m.\u001b[0m\u001b[0mwait\u001b[0m\u001b[0;34m(\u001b[0m\u001b[0mtimeout\u001b[0m\u001b[0;34m=\u001b[0m\u001b[0;36m0.100\u001b[0m\u001b[0;34m)\u001b[0m\u001b[0;34m\u001b[0m\u001b[0;34m\u001b[0m\u001b[0m\n\u001b[0m\u001b[1;32m   4452\u001b[0m         \u001b[0;32mreturn\u001b[0m \u001b[0mself\u001b[0m\u001b[0;34m.\u001b[0m\u001b[0m_get_and_raise\u001b[0m\u001b[0;34m(\u001b[0m\u001b[0;34m)\u001b[0m\u001b[0;34m\u001b[0m\u001b[0;34m\u001b[0m\u001b[0m\n\u001b[1;32m   4453\u001b[0m \u001b[0;34m\u001b[0m\u001b[0m\n",
      "\u001b[0;32m/srv/conda/envs/notebook/lib/python3.8/threading.py\u001b[0m in \u001b[0;36mwait\u001b[0;34m(self, timeout)\u001b[0m\n\u001b[1;32m    304\u001b[0m             \u001b[0;32melse\u001b[0m\u001b[0;34m:\u001b[0m\u001b[0;34m\u001b[0m\u001b[0;34m\u001b[0m\u001b[0m\n\u001b[1;32m    305\u001b[0m                 \u001b[0;32mif\u001b[0m \u001b[0mtimeout\u001b[0m \u001b[0;34m>\u001b[0m \u001b[0;36m0\u001b[0m\u001b[0;34m:\u001b[0m\u001b[0;34m\u001b[0m\u001b[0;34m\u001b[0m\u001b[0m\n\u001b[0;32m--> 306\u001b[0;31m                     \u001b[0mgotit\u001b[0m \u001b[0;34m=\u001b[0m \u001b[0mwaiter\u001b[0m\u001b[0;34m.\u001b[0m\u001b[0macquire\u001b[0m\u001b[0;34m(\u001b[0m\u001b[0;32mTrue\u001b[0m\u001b[0;34m,\u001b[0m \u001b[0mtimeout\u001b[0m\u001b[0;34m)\u001b[0m\u001b[0;34m\u001b[0m\u001b[0;34m\u001b[0m\u001b[0m\n\u001b[0m\u001b[1;32m    307\u001b[0m                 \u001b[0;32melse\u001b[0m\u001b[0;34m:\u001b[0m\u001b[0;34m\u001b[0m\u001b[0;34m\u001b[0m\u001b[0m\n\u001b[1;32m    308\u001b[0m                     \u001b[0mgotit\u001b[0m \u001b[0;34m=\u001b[0m \u001b[0mwaiter\u001b[0m\u001b[0;34m.\u001b[0m\u001b[0macquire\u001b[0m\u001b[0;34m(\u001b[0m\u001b[0;32mFalse\u001b[0m\u001b[0;34m)\u001b[0m\u001b[0;34m\u001b[0m\u001b[0;34m\u001b[0m\u001b[0m\n",
      "\u001b[0;31mKeyboardInterrupt\u001b[0m: "
     ]
    }
   ],
   "source": [
    "for yr, ca in yr_catalogs:\n",
    "        logger.info(f\"Starting process for {yr}\")\n",
    "        ca.info()\n",
    "        storage_prefix = f\"{storage_container}/{yr}\"\n",
    "        process_catalog(\n",
    "            catalog=ca,\n",
    "            catalog_groupby=catalog_groupby,\n",
    "            job_fn=calculate_job_median,\n",
    "            job_groupby=job_groupby,\n",
    "            chunks=chunks,\n",
    "            account_name=account_name,\n",
    "            storage_container=storage_prefix,\n",
    "            account_key=account_key,\n",
    "            client=client,\n",
    "            concurrency=4,\n",
    "            logger=logger\n",
    "        )"
   ]
  },
  {
   "cell_type": "code",
   "execution_count": null,
   "metadata": {},
   "outputs": [],
   "source": [
    "cluster.shutdown()"
   ]
  },
  {
   "cell_type": "code",
   "execution_count": null,
   "metadata": {},
   "outputs": [],
   "source": []
  }
 ],
 "metadata": {
  "kernelspec": {
   "display_name": "Python [conda env:notebook] *",
   "language": "python",
   "name": "conda-env-notebook-py"
  },
  "language_info": {
   "codemirror_mode": {
    "name": "ipython",
    "version": 3
   },
   "file_extension": ".py",
   "mimetype": "text/x-python",
   "name": "python",
   "nbconvert_exporter": "python",
   "pygments_lexer": "ipython3",
   "version": "3.8.6"
  }
 },
 "nbformat": 4,
 "nbformat_minor": 4
}
