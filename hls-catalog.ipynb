{
 "cells": [
  {
   "cell_type": "code",
   "execution_count": 1,
   "metadata": {},
   "outputs": [],
   "source": [
    "import os\n",
    "\n",
    "import fsspec\n",
    "import geopandas as gpd\n",
    "\n",
    "from utils.hls.catalog import HLSBand\n",
    "from utils.hls.catalog import HLSCatalog\n",
    "from utils.hls.catalog import HLSTileLookup\n",
    "from utils.hls.catalog import fia_csv_to_data_catalog_input"
   ]
  },
  {
   "cell_type": "code",
   "execution_count": 2,
   "metadata": {},
   "outputs": [],
   "source": [
    "os.environ['AZURE_ACCOUNT_KEY'] = \"\""
   ]
  },
  {
   "cell_type": "code",
   "execution_count": 3,
   "metadata": {},
   "outputs": [
    {
     "name": "stdout",
     "output_type": "stream",
     "text": [
      "Reading tile extents...\n",
      "Read tile extents for 56686 tiles\n"
     ]
    }
   ],
   "source": [
    "lookup = HLSTileLookup()"
   ]
  },
  {
   "cell_type": "code",
   "execution_count": 4,
   "metadata": {},
   "outputs": [],
   "source": [
    "bands = [\n",
    "    HLSBand.COASTAL_AEROSOL,\n",
    "    HLSBand.BLUE,\n",
    "    HLSBand.GREEN,\n",
    "    HLSBand.RED,\n",
    "    HLSBand.NIR_NARROW,\n",
    "    HLSBand.SWIR1,\n",
    "    HLSBand.SWIR2,\n",
    "    HLSBand.CIRRUS,\n",
    "    HLSBand.QA,\n",
    "]"
   ]
  },
  {
   "cell_type": "code",
   "execution_count": 5,
   "metadata": {},
   "outputs": [],
   "source": [
    "storage_container = 'fia'\n",
    "account_name = 'usfs'\n",
    "account_key = os.environ['AZURE_ACCOUNT_KEY']"
   ]
  },
  {
   "cell_type": "code",
   "execution_count": null,
   "metadata": {},
   "outputs": [],
   "source": [
    "%%time\n",
    "\n",
    "# 2015-2019 USA\n",
    "geom = gpd.read_file('cb_2018_conus_20m.geojson').to_crs('EPSG:4326')\n",
    "years = [2015, 2016, 2017, 2018, 2019]\n",
    "conus_catalog = HLSCatalog.from_geom(geom, years, bands, lookup)"
   ]
  },
  {
   "cell_type": "code",
   "execution_count": null,
   "metadata": {},
   "outputs": [],
   "source": [
    "path = 'catalogs/hls_conus_2015-2019'\n",
    "write_store = fsspec.get_mapper(\n",
    "    f\"az://{storage_container}/{path}.zarr\",\n",
    "    account_name=account_name,\n",
    "    account_key=account_key\n",
    ")\n",
    "conus_catalog.to_zarr(write_store)"
   ]
  },
  {
   "cell_type": "code",
   "execution_count": 6,
   "metadata": {},
   "outputs": [],
   "source": [
    "# 2015-2019 Washington State\n",
    "bbox = [-124.76074218749999, 45.44471679159555, -116.91650390625, 49.05227025601607]\n",
    "years = [2015, 2016, 2017, 2018, 2019]\n",
    "wa_catalog = HLSCatalog.from_bbox(bbox, years, bands, lookup)"
   ]
  },
  {
   "cell_type": "code",
   "execution_count": 7,
   "metadata": {},
   "outputs": [],
   "source": [
    "path = 'catalogs/hls_wa_2015-2019'\n",
    "write_store = fsspec.get_mapper(\n",
    "    f\"az://{storage_container}/{path}.zarr\",\n",
    "    account_name=account_name,\n",
    "    account_key=account_key\n",
    ")\n",
    "wa_catalog.to_zarr(write_store)"
   ]
  },
  {
   "cell_type": "code",
   "execution_count": 6,
   "metadata": {},
   "outputs": [],
   "source": [
    "# 2015-2019 Arizona\n",
    "\n",
    "bbox = [-114.86206054687499, 31.306715155075167, -109.0283203125, 37.02886944696474]\n",
    "years = [2015, 2016, 2017, 2018, 2019]\n",
    "az_catalog = HLSCatalog.from_bbox(bbox, years, bands, lookup)"
   ]
  },
  {
   "cell_type": "code",
   "execution_count": 7,
   "metadata": {},
   "outputs": [],
   "source": [
    "path = 'catalogs/hls_az_2015-2019'\n",
    "write_store = fsspec.get_mapper(\n",
    "    f\"az://{storage_container}/{path}.zarr\",\n",
    "    account_name=account_name,\n",
    "    account_key=account_key\n",
    ")\n",
    "az_catalog.to_zarr(write_store)"
   ]
  },
  {
   "cell_type": "code",
   "execution_count": 7,
   "metadata": {},
   "outputs": [],
   "source": [
    "# 2015-2019 Western US (Montana/Wyoming/Colorado/New Mexico and west)\n",
    "bbox = [-124.78, 31.33, -102.04, 49.02]\n",
    "years = [2015, 2016, 2017, 2018, 2019]\n",
    "west_catalog = HLSCatalog.from_bbox(bbox, years, bands, lookup)"
   ]
  },
  {
   "cell_type": "code",
   "execution_count": 8,
   "metadata": {},
   "outputs": [],
   "source": [
    "path = 'catalogs/hls_west_2015-2019'\n",
    "write_store = fsspec.get_mapper(\n",
    "    f\"az://{storage_container}/{path}.zarr\",\n",
    "    account_name=account_name,\n",
    "    account_key=account_key\n",
    ")\n",
    "west_catalog.to_zarr(write_store)"
   ]
  },
  {
   "cell_type": "code",
   "execution_count": 6,
   "metadata": {},
   "outputs": [
    {
     "name": "stdout",
     "output_type": "stream",
     "text": [
      "Reading tile extents...\n",
      "Read tile extents for 56686 tiles\n"
     ]
    }
   ],
   "source": [
    "bands = [\n",
    "    HLSBand.COASTAL_AEROSOL,\n",
    "    HLSBand.BLUE,\n",
    "    HLSBand.GREEN,\n",
    "    HLSBand.RED,\n",
    "    HLSBand.NIR_NARROW,\n",
    "    HLSBand.SWIR1,\n",
    "    HLSBand.SWIR2,\n",
    "]\n",
    "\n",
    "df = fia_csv_to_data_catalog_input('./fia_no_pltcn.csv')\n",
    "pt_catalog = HLSCatalog.from_point_pandas(df, bands, include_scenes=False)"
   ]
  },
  {
   "cell_type": "code",
   "execution_count": 7,
   "metadata": {},
   "outputs": [],
   "source": [
    "write_store = fsspec.get_mapper(\n",
    "    f\"az://fia/catalogs/fia_tiles.zarr\",\n",
    "    account_name=\"usfs\",\n",
    "    account_key=os.environ['AZURE_ACCOUNT_KEY']\n",
    ")\n",
    "pt_catalog.to_zarr(write_store)"
   ]
  }
 ],
 "metadata": {
  "kernelspec": {
   "display_name": "Python [conda env:notebook] *",
   "language": "python",
   "name": "conda-env-notebook-py"
  },
  "language_info": {
   "codemirror_mode": {
    "name": "ipython",
    "version": 3
   },
   "file_extension": ".py",
   "mimetype": "text/x-python",
   "name": "python",
   "nbconvert_exporter": "python",
   "pygments_lexer": "ipython3",
   "version": "3.8.6"
  }
 },
 "nbformat": 4,
 "nbformat_minor": 4
}
