{
 "cells": [
  {
   "cell_type": "code",
   "execution_count": null,
   "metadata": {},
   "outputs": [],
   "source": [
    "import os\n",
    "\n",
    "import fsspec\n",
    "\n",
    "from utils.hls import HLSBand\n",
    "from utils.hls import HLSCatalog\n",
    "from utils.hls import HLSTileLookup\n",
    "from utils.hls import fia_csv_to_data_catalog_input"
   ]
  },
  {
   "cell_type": "code",
   "execution_count": 2,
   "metadata": {},
   "outputs": [
    {
     "name": "stdout",
     "output_type": "stream",
     "text": [
      "Reading tile extents...\n",
      "Read tile extents for 56686 tiles\n"
     ]
    }
   ],
   "source": [
    "lookup = HLSTileLookup()"
   ]
  },
  {
   "cell_type": "code",
   "execution_count": 3,
   "metadata": {},
   "outputs": [],
   "source": [
    "bands = [\n",
    "    HLSBand.COASTAL_AEROSOL,\n",
    "    HLSBand.BLUE,\n",
    "    HLSBand.GREEN,\n",
    "    HLSBand.RED,\n",
    "    HLSBand.NIR_NARROW,\n",
    "    HLSBand.SWIR1,\n",
    "    HLSBand.SWIR2,\n",
    "    HLSBand.CIRRUS,\n",
    "    HLSBand.QA,\n",
    "]"
   ]
  },
  {
   "cell_type": "code",
   "execution_count": 4,
   "metadata": {},
   "outputs": [],
   "source": [
    "point_catalog = HLSCatalog.from_point_pandas(df=fia_csv_to_data_catalog_input('./fia_10.csv'), bands=bands, tile_lookup=lookup)"
   ]
  },
  {
   "cell_type": "code",
   "execution_count": 26,
   "metadata": {},
   "outputs": [],
   "source": [
    "os.environ['AZURE_ACCOUNT_KEY'] = \"{YOUR_STORAGE_ACCOUNT_KEY}\""
   ]
  },
  {
   "cell_type": "code",
   "execution_count": 21,
   "metadata": {},
   "outputs": [],
   "source": [
    "storage_container = 'fia'\n",
    "account_name = 'usfs'\n",
    "account_key = os.environ['AZURE_ACCOUNT_KEY']"
   ]
  },
  {
   "cell_type": "code",
   "execution_count": null,
   "metadata": {},
   "outputs": [],
   "source": [
    "path = 'catalogs/fia10'\n",
    "write_store = fsspec.get_mapper(\n",
    "    f\"az://{storage_container}/{path}.zarr\",\n",
    "    account_name=account_name,\n",
    "    account_key=account_key\n",
    ")\n",
    "point_catalog.to_zarr(write_store)"
   ]
  },
  {
   "cell_type": "code",
   "execution_count": 6,
   "metadata": {},
   "outputs": [],
   "source": [
    "pc = HLSCatalog.from_zarr('fia10.zarr')"
   ]
  },
  {
   "cell_type": "code",
   "execution_count": 12,
   "metadata": {},
   "outputs": [
    {
     "name": "stdout",
     "output_type": "stream",
     "text": [
      "CPU times: user 46min 10s, sys: 16.6 s, total: 46min 27s\n",
      "Wall time: 1h 11min 53s\n"
     ]
    }
   ],
   "source": [
    "%%time\n",
    "\n",
    "# 2015-2019 USA\n",
    "bbox = [-124.98046874999999, 24.367113562651262, -66.70898437499999, 49.49667452747045]\n",
    "years = [2015, 2016, 2017, 2018, 2019]\n",
    "bbox_catalog = HLSCatalog.from_bbox(bbox, years, bands, lookup)"
   ]
  },
  {
   "cell_type": "code",
   "execution_count": 23,
   "metadata": {},
   "outputs": [],
   "source": [
    "path = 'catalogs/hls_conus_2015-2019'\n",
    "write_store = fsspec.get_mapper(\n",
    "    f\"az://{storage_container}/{path}.zarr\",\n",
    "    account_name=account_name,\n",
    "    account_key=account_key\n",
    ")\n",
    "bbox_catalog.to_zarr(write_store)"
   ]
  }
 ],
 "metadata": {
  "kernelspec": {
   "display_name": "Python [conda env:notebook] *",
   "language": "python",
   "name": "conda-env-notebook-py"
  },
  "language_info": {
   "codemirror_mode": {
    "name": "ipython",
    "version": 3
   },
   "file_extension": ".py",
   "mimetype": "text/x-python",
   "name": "python",
   "nbconvert_exporter": "python",
   "pygments_lexer": "ipython3",
   "version": "3.8.6"
  }
 },
 "nbformat": 4,
 "nbformat_minor": 4
}
